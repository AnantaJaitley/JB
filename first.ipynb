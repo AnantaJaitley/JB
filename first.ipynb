{
 "cells": [
  {
   "cell_type": "code",
   "execution_count": 1,
   "id": "5e7c7bbe-2c76-40d9-9844-95a116617a9c",
   "metadata": {},
   "outputs": [
    {
     "name": "stdout",
     "output_type": "stream",
     "text": [
      "Hello World\n"
     ]
    }
   ],
   "source": [
    "print('Hello World')"
   ]
  },
  {
   "cell_type": "code",
   "execution_count": 2,
   "id": "cf296222-42b7-4f60-935c-b508c1f9a3f8",
   "metadata": {},
   "outputs": [
    {
     "name": "stdout",
     "output_type": "stream",
     "text": [
      "7\n"
     ]
    }
   ],
   "source": [
    "print(7)"
   ]
  },
  {
   "cell_type": "code",
   "execution_count": 3,
   "id": "6c276be5-f3ef-4119-869a-a4e58eff28c7",
   "metadata": {},
   "outputs": [
    {
     "name": "stdout",
     "output_type": "stream",
     "text": [
      "7.7\n"
     ]
    }
   ],
   "source": [
    "print(7.7)"
   ]
  },
  {
   "cell_type": "code",
   "execution_count": 4,
   "id": "47b9384c-c829-4d50-bcae-dbf464988df4",
   "metadata": {},
   "outputs": [
    {
     "ename": "NameError",
     "evalue": "name 'true' is not defined",
     "output_type": "error",
     "traceback": [
      "\u001b[1;31m---------------------------------------------------------------------------\u001b[0m",
      "\u001b[1;31mNameError\u001b[0m                                 Traceback (most recent call last)",
      "Cell \u001b[1;32mIn[4], line 1\u001b[0m\n\u001b[1;32m----> 1\u001b[0m \u001b[38;5;28mprint\u001b[39m(\u001b[43mtrue\u001b[49m)\n",
      "\u001b[1;31mNameError\u001b[0m: name 'true' is not defined"
     ]
    }
   ],
   "source": [
    "print(true)"
   ]
  },
  {
   "cell_type": "code",
   "execution_count": 5,
   "id": "a7c28d2d-f7f1-4025-8780-1a26534d541d",
   "metadata": {},
   "outputs": [
    {
     "name": "stdout",
     "output_type": "stream",
     "text": [
      "True\n"
     ]
    }
   ],
   "source": [
    "print(True)"
   ]
  },
  {
   "cell_type": "code",
   "execution_count": 7,
   "id": "c1ed9e2f-155f-4a5a-86e0-0a72ed19deb8",
   "metadata": {},
   "outputs": [
    {
     "name": "stdout",
     "output_type": "stream",
     "text": [
      "Hello 1 4.5 True\n"
     ]
    }
   ],
   "source": [
    "print('Hello',1,4.5,True)"
   ]
  },
  {
   "cell_type": "code",
   "execution_count": 9,
   "id": "04cb43f6-903f-43d1-9c0c-02c51df6b652",
   "metadata": {},
   "outputs": [
    {
     "name": "stdout",
     "output_type": "stream",
     "text": [
      "Hello/1/4.5/True\n"
     ]
    }
   ],
   "source": [
    "print('Hello',1,4.5,True,sep='/')"
   ]
  },
  {
   "cell_type": "code",
   "execution_count": 10,
   "id": "e86a7e97-4215-4554-be33-dc1076f4c7a5",
   "metadata": {},
   "outputs": [
    {
     "name": "stdout",
     "output_type": "stream",
     "text": [
      "hello\n",
      "print\n"
     ]
    }
   ],
   "source": [
    "print('hello')\n",
    "print('print')"
   ]
  },
  {
   "cell_type": "code",
   "execution_count": 12,
   "id": "3020808e-ce3f-4341-b6b8-b04d0763d675",
   "metadata": {},
   "outputs": [
    {
     "name": "stdout",
     "output_type": "stream",
     "text": [
      "1e+308\n",
      "1.7e+308\n",
      "True\n",
      "[1, 2, 3, 4, 5]\n",
      "(1, 2, 3, 4, 5)\n",
      "{1, 2, 3, 4, 5}\n",
      "{'Name': 'Nitesh'}\n"
     ]
    }
   ],
   "source": [
    "print(1e308)\n",
    "print(1.7e308)\n",
    "print(True)\n",
    "print([1,2,3,4,5])\n",
    "print((1,2,3,4,5))\n",
    "print({1,2,3,4,5})\n",
    "print({'Name':'Nitesh'})\n"
   ]
  },
  {
   "cell_type": "code",
   "execution_count": 11,
   "id": "57a9ca14-492d-4d36-9b10-ff86f0591dce",
   "metadata": {},
   "outputs": [
    {
     "name": "stdout",
     "output_type": "stream",
     "text": [
      "hello-world\n"
     ]
    }
   ],
   "source": [
    "print('hello',end='-')\n",
    "print('world')"
   ]
  },
  {
   "cell_type": "code",
   "execution_count": 14,
   "id": "b6525aeb-db1e-40f0-8983-8598f2e1d273",
   "metadata": {},
   "outputs": [
    {
     "name": "stdout",
     "output_type": "stream",
     "text": [
      "nitish\n",
      "11\n"
     ]
    }
   ],
   "source": [
    "name = 'nitish'\n",
    "print(name)\n",
    "a = 5\n",
    "b = 6\n",
    "print(a + b)"
   ]
  },
  {
   "cell_type": "code",
   "execution_count": 16,
   "id": "86ca01e2-684a-4ace-992c-051b9122d3dc",
   "metadata": {},
   "outputs": [
    {
     "name": "stdout",
     "output_type": "stream",
     "text": [
      "5\n",
      "nitish\n"
     ]
    }
   ],
   "source": [
    "# Dynamic binding\n",
    "a = 5\n",
    "print(a)\n",
    "a = 'nitish'\n",
    "print(a)"
   ]
  },
  {
   "cell_type": "code",
   "execution_count": 17,
   "id": "b677f4d3-61b0-4477-bc9b-b01092458b1c",
   "metadata": {},
   "outputs": [
    {
     "name": "stdout",
     "output_type": "stream",
     "text": [
      "1 2 3\n"
     ]
    }
   ],
   "source": [
    "a = 1\n",
    "b = 2\n",
    "c = 3\n",
    "print(a,b,c)"
   ]
  },
  {
   "cell_type": "code",
   "execution_count": 18,
   "id": "0fc95de6-d976-48a6-9c91-bf3251a7f3fe",
   "metadata": {},
   "outputs": [
    {
     "name": "stdout",
     "output_type": "stream",
     "text": [
      "1 2 3\n"
     ]
    }
   ],
   "source": [
    "a,b,c = 1,2,3\n",
    "print(a,b,c)\n"
   ]
  },
  {
   "cell_type": "code",
   "execution_count": 19,
   "id": "7292dcfb-3c8b-42d5-b4ad-71e4d4e7eff3",
   "metadata": {},
   "outputs": [
    {
     "name": "stdout",
     "output_type": "stream",
     "text": [
      "5 5 5\n"
     ]
    }
   ],
   "source": [
    "a=b=c=5\n",
    "print(a,b,c)"
   ]
  },
  {
   "cell_type": "code",
   "execution_count": 21,
   "id": "070e88c6-a47d-4896-a75f-bb2add6df1be",
   "metadata": {},
   "outputs": [
    {
     "name": "stdin",
     "output_type": "stream",
     "text": [
      "enter first number 45\n",
      "enter second number 56\n"
     ]
    },
    {
     "name": "stdout",
     "output_type": "stream",
     "text": [
      "45 56\n",
      "4556\n"
     ]
    }
   ],
   "source": [
    "#take input from user and store them in a variable\n",
    "fnum = input('enter first number')\n",
    "snum = input('enter second number')\n",
    "print(fnum,snum)\n",
    "#add the two variables\n",
    "result = fnum + snum\n",
    "#print thr result\n",
    "print(result)\n"
   ]
  },
  {
   "cell_type": "code",
   "execution_count": 22,
   "id": "ae7888e1-e47c-4d06-bccc-32e0dd0d32b6",
   "metadata": {},
   "outputs": [
    {
     "data": {
      "text/plain": [
       "4.0"
      ]
     },
     "execution_count": 22,
     "metadata": {},
     "output_type": "execute_result"
    }
   ],
   "source": [
    "# explicit\n",
    "# str -> int\n",
    "# int to str\n",
    "str(5)\n",
    "# float\n",
    "float(4)\n",
    "\n"
   ]
  },
  {
   "cell_type": "code",
   "execution_count": 24,
   "id": "96f7b253-b452-4d67-9ebb-fa3db10363f1",
   "metadata": {},
   "outputs": [
    {
     "name": "stdin",
     "output_type": "stream",
     "text": [
      "enter first number 45\n",
      "enter second number 56\n"
     ]
    },
    {
     "name": "stdout",
     "output_type": "stream",
     "text": [
      "45 56\n",
      "101\n",
      "<class 'str'>\n"
     ]
    }
   ],
   "source": [
    "#take input from user and store them in a variable\n",
    "fnum = input('enter first number')\n",
    "snum = input('enter second number')\n",
    "print(fnum,snum)\n",
    "#add the two variables\n",
    "result = int(fnum) + int(snum)\n",
    "#print thr result\n",
    "print(result)\n",
    "print(type(fnum))"
   ]
  },
  {
   "cell_type": "code",
   "execution_count": 25,
   "id": "7f80d7a0-8cfd-4518-99f6-33528d8fe0b8",
   "metadata": {},
   "outputs": [
    {
     "name": "stdin",
     "output_type": "stream",
     "text": [
      "enter first number 45\n",
      "enter second number 56\n"
     ]
    },
    {
     "name": "stdout",
     "output_type": "stream",
     "text": [
      "45 56\n",
      "101\n",
      "<class 'int'>\n"
     ]
    }
   ],
   "source": [
    "#take input from user and store them in a variable\n",
    "fnum = int(input('enter first number'))\n",
    "snum = int(input('enter second number'))\n",
    "print(fnum,snum)\n",
    "#add the two variables\n",
    "result = int(fnum) + int(snum)\n",
    "#print thr result\n",
    "print(result)\n",
    "print(type(fnum))"
   ]
  },
  {
   "cell_type": "code",
   "execution_count": 27,
   "id": "ebdcaa5e-a9c8-40dd-83e3-ec5e4c54d570",
   "metadata": {},
   "outputs": [
    {
     "name": "stdout",
     "output_type": "stream",
     "text": [
      "10\n",
      "100\n",
      "200\n",
      "300\n"
     ]
    }
   ],
   "source": [
    "# binary literal\n",
    "a = 0b1010\n",
    "print(a)\n",
    "b = 100 #decimal literal\n",
    "print(b)\n",
    "c = 0o310 #Octal literal\n",
    "print(c)\n",
    "d = 0x12c #hexadecimal literal\n",
    "print(d)"
   ]
  },
  {
   "cell_type": "code",
   "execution_count": null,
   "id": "7088f61f-0208-44c2-bacb-f0235c7879b6",
   "metadata": {},
   "outputs": [],
   "source": []
  }
 ],
 "metadata": {
  "kernelspec": {
   "display_name": "Python 3 (ipykernel)",
   "language": "python",
   "name": "python3"
  },
  "language_info": {
   "codemirror_mode": {
    "name": "ipython",
    "version": 3
   },
   "file_extension": ".py",
   "mimetype": "text/x-python",
   "name": "python",
   "nbconvert_exporter": "python",
   "pygments_lexer": "ipython3",
   "version": "3.12.3"
  }
 },
 "nbformat": 4,
 "nbformat_minor": 5
}
