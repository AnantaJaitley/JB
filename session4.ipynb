{
 "cells": [
  {
   "cell_type": "code",
   "execution_count": 1,
   "id": "9627b67b-9c52-4124-b947-80340bd74d39",
   "metadata": {},
   "outputs": [
    {
     "name": "stdout",
     "output_type": "stream",
     "text": [
      "140716600400344\n"
     ]
    }
   ],
   "source": [
    "a = 2\n",
    "print(id(2))"
   ]
  },
  {
   "cell_type": "code",
   "execution_count": 2,
   "id": "a4d219e3-ec5a-4f6a-9633-118ca5814754",
   "metadata": {},
   "outputs": [
    {
     "name": "stdout",
     "output_type": "stream",
     "text": [
      "2028525256448\n",
      "140716600400312\n",
      "140716600400344\n",
      "140716600400376\n"
     ]
    }
   ],
   "source": [
    "L = [1,2,3]\n",
    "print(id(L))\n",
    "print(id(L[0]))\n",
    "print(id(L[1]))\n",
    "print(id(L[2]))"
   ]
  },
  {
   "cell_type": "code",
   "execution_count": 3,
   "id": "8a96746a-9389-4470-be93-54aee3191d4f",
   "metadata": {},
   "outputs": [
    {
     "data": {
      "text/plain": [
       "False"
      ]
     },
     "execution_count": 3,
     "metadata": {},
     "output_type": "execute_result"
    }
   ],
   "source": [
    "L =[1,2,3]\n",
    "L1 =[3,2,1]\n",
    "L == L1"
   ]
  },
  {
   "cell_type": "code",
   "execution_count": 5,
   "id": "f2a74fa6-b9ef-4c87-9055-439c374bdfb8",
   "metadata": {},
   "outputs": [
    {
     "name": "stdout",
     "output_type": "stream",
     "text": [
      "[]\n",
      "[1, 2, 3, 4]\n",
      "[1, 2, [3, 4]]\n",
      "[[[1, 2], [3, 4]], [[5, 6], [7, 8]]]\n",
      "[1, True, 5.5, (5+6j), 'Hello']\n",
      "['h', 'e', 'l', 'l', 'o']\n"
     ]
    }
   ],
   "source": [
    "# creating a list\n",
    "# empty\n",
    "print([])\n",
    "# 1D -> homo\n",
    "print([1,2,3,4])\n",
    "# 2D\n",
    "print([1,2,[3,4]]) # it is hetrogeneous,2 are intergers and 1 is a list\n",
    "# 3D\n",
    "print([[[1,2],[3,4]],[[5,6],[7,8]]]) # homo\n",
    "#hetrogeneous\n",
    "print([1,True,5.5,5+6j,'Hello'])\n",
    "# using type conversion\n",
    "print(list('hello'))\n",
    "\n",
    "\n"
   ]
  },
  {
   "cell_type": "code",
   "execution_count": 7,
   "id": "470e7053-080f-4902-91c1-56534fb1fce7",
   "metadata": {},
   "outputs": [
    {
     "name": "stdout",
     "output_type": "stream",
     "text": [
      "4\n",
      "3\n",
      "4\n",
      "4\n",
      "[[1, 2], [3, 4]]\n",
      "[[5, 6], [7, 8]]\n",
      "[5, 6]\n",
      "5\n",
      "3\n",
      "2\n"
     ]
    }
   ],
   "source": [
    "# Indexing\n",
    "L0 =[1,2,3,4,5]\n",
    "# positive\n",
    "print(L0[3])\n",
    "# negative\n",
    "print(L0[-3])\n",
    "# 2D\n",
    "L1 = [1,2,3,[4,5]]\n",
    "# negative\n",
    "print(L1[-1][-2])\n",
    "# positive\n",
    "print(L1[3][0])\n",
    "# 3D\n",
    "L2 = [[[1,2],[3,4]],[[5,6],[7,8]]]\n",
    "print(L2[0])\n",
    "print(L2[1])\n",
    "print(L2[1][0])\n",
    "print(L2[1][0][0])\n",
    "print(L2[0][1][0])\n",
    "print(L2[0][0][1])\n"
   ]
  },
  {
   "cell_type": "code",
   "execution_count": 16,
   "id": "d5580fe9-ce41-4401-8abe-3cbc067636e8",
   "metadata": {},
   "outputs": [
    {
     "name": "stdout",
     "output_type": "stream",
     "text": [
      "[1, 2, 3]\n",
      "[4, 5]\n",
      "[4, 5, 6]\n",
      "[1, 3, 5]\n",
      "[2, 4]\n",
      "[6, 5, 4, 3, 2, 1]\n"
     ]
    }
   ],
   "source": [
    "# slicing\n",
    "l = [1,2,3,4,5,6]\n",
    "print(l[0:3])\n",
    "print(l[-3:-1])\n",
    "print(l[-3:])\n",
    "print(l[0::2])\n",
    "print(l[-5:-2:2])\n",
    "print(l[::-1])\n",
    "\n"
   ]
  },
  {
   "cell_type": "code",
   "execution_count": 18,
   "id": "de785ef2-8904-4f0e-9003-6ac2f8648e32",
   "metadata": {},
   "outputs": [
    {
     "name": "stdout",
     "output_type": "stream",
     "text": [
      "[1, 2, 3, 4, 5, 6]\n",
      "[1, 2, 3, 4, 5, 6, True]\n"
     ]
    }
   ],
   "source": [
    "# adding list to an item\n",
    "# append\n",
    "l = [1,2,3,4,5]\n",
    "l.append(6)\n",
    "print(l)\n",
    "l.append(True)\n",
    "print(l)\n"
   ]
  },
  {
   "cell_type": "code",
   "execution_count": 19,
   "id": "23f9431e-2770-4c75-be03-48863e97552b",
   "metadata": {},
   "outputs": [
    {
     "name": "stdout",
     "output_type": "stream",
     "text": [
      "[1, 2, 3, 4, 5, 1, 2, 3]\n"
     ]
    }
   ],
   "source": [
    "# extend\n",
    "l = [1,2,3,4,5]\n",
    "l.extend([1,2,3])\n",
    "print(l)\n"
   ]
  },
  {
   "cell_type": "code",
   "execution_count": 20,
   "id": "255e255e-db56-4b2d-b22b-dde07cf9c409",
   "metadata": {},
   "outputs": [
    {
     "name": "stdout",
     "output_type": "stream",
     "text": [
      "[1, 2, 3, 4, 5, [6, 7, 8]]\n"
     ]
    }
   ],
   "source": [
    "l = [1,2,3,4,5]\n",
    "l.append([6,7,8])\n",
    "print(l)"
   ]
  },
  {
   "cell_type": "code",
   "execution_count": 21,
   "id": "69a66598-1f33-4c36-b1a5-f4ff222fd2fc",
   "metadata": {},
   "outputs": [
    {
     "name": "stdout",
     "output_type": "stream",
     "text": [
      "[1, 2, 3, 4, 5, 'd', 'e', 'l', 'h', 'i']\n"
     ]
    }
   ],
   "source": [
    "l = [1,2,3,4,5]\n",
    "l.extend('delhi')\n",
    "print(l)\n"
   ]
  },
  {
   "cell_type": "code",
   "execution_count": 22,
   "id": "26163eec-3832-43f0-9fc7-ca894a1a7674",
   "metadata": {},
   "outputs": [
    {
     "name": "stdout",
     "output_type": "stream",
     "text": [
      "[1, 100, 2, 3, 4, 5]\n"
     ]
    }
   ],
   "source": [
    "# insert\n",
    "l = [1,2,3,4,5]\n",
    "l.insert(1,100)\n",
    "print(l)\n"
   ]
  },
  {
   "cell_type": "code",
   "execution_count": 23,
   "id": "14139523-08b2-4892-aa31-171f6e00df6e",
   "metadata": {},
   "outputs": [
    {
     "name": "stdout",
     "output_type": "stream",
     "text": [
      "[1, [100, 90, 80], 2, 3, 4, 5]\n"
     ]
    }
   ],
   "source": [
    "l = [1,2,3,4,5]\n",
    "l.insert(1,[100,90,80])\n",
    "print(l)\n"
   ]
  },
  {
   "cell_type": "code",
   "execution_count": 24,
   "id": "b952adfb-18d3-4e37-9de5-c3b0861927c8",
   "metadata": {},
   "outputs": [
    {
     "name": "stdout",
     "output_type": "stream",
     "text": [
      "[1, (80, 90, 100), 2, 3, 4, 5]\n"
     ]
    }
   ],
   "source": [
    "l = [1,2,3,4,5]\n",
    "l.insert(1,(80,90,100))\n",
    "print(l)\n"
   ]
  },
  {
   "cell_type": "code",
   "execution_count": 25,
   "id": "8a0c4374-7efd-4490-8c70-512977a384e3",
   "metadata": {},
   "outputs": [
    {
     "ename": "TypeError",
     "evalue": "insert expected 2 arguments, got 4",
     "output_type": "error",
     "traceback": [
      "\u001b[1;31m---------------------------------------------------------------------------\u001b[0m",
      "\u001b[1;31mTypeError\u001b[0m                                 Traceback (most recent call last)",
      "Cell \u001b[1;32mIn[25], line 2\u001b[0m\n\u001b[0;32m      1\u001b[0m l \u001b[38;5;241m=\u001b[39m [\u001b[38;5;241m1\u001b[39m,\u001b[38;5;241m2\u001b[39m,\u001b[38;5;241m3\u001b[39m,\u001b[38;5;241m4\u001b[39m,\u001b[38;5;241m5\u001b[39m]\n\u001b[1;32m----> 2\u001b[0m \u001b[43ml\u001b[49m\u001b[38;5;241;43m.\u001b[39;49m\u001b[43minsert\u001b[49m\u001b[43m(\u001b[49m\u001b[38;5;241;43m1\u001b[39;49m\u001b[43m,\u001b[49m\u001b[38;5;241;43m80\u001b[39;49m\u001b[43m,\u001b[49m\u001b[38;5;241;43m90\u001b[39;49m\u001b[43m,\u001b[49m\u001b[38;5;241;43m100\u001b[39;49m\u001b[43m)\u001b[49m\n\u001b[0;32m      3\u001b[0m \u001b[38;5;28mprint\u001b[39m(l)\n",
      "\u001b[1;31mTypeError\u001b[0m: insert expected 2 arguments, got 4"
     ]
    }
   ],
   "source": [
    "l = [1,2,3,4,5]\n",
    "l.insert(1,80,90,100)\n",
    "print(l)\n"
   ]
  },
  {
   "cell_type": "code",
   "execution_count": 27,
   "id": "d01892ea-8fc6-4a4b-95df-f8d3c285b8c1",
   "metadata": {},
   "outputs": [
    {
     "name": "stdout",
     "output_type": "stream",
     "text": [
      "[1, 2, 3, 4, 500]\n"
     ]
    }
   ],
   "source": [
    "l = [1,2,3,4,5]\n",
    "# editing with indexing\n",
    "l[-1] = 500\n",
    "print(l)"
   ]
  },
  {
   "cell_type": "code",
   "execution_count": 28,
   "id": "d54d3dcd-3f38-4a5f-b395-ff7cac36defc",
   "metadata": {},
   "outputs": [
    {
     "name": "stdout",
     "output_type": "stream",
     "text": [
      "[1, 200, 300, 400, 5]\n"
     ]
    }
   ],
   "source": [
    "l = [1,2,3,4,5]\n",
    "# editing with slicing\n",
    "l[1:4] = [200,300,400]\n",
    "print(l)"
   ]
  },
  {
   "cell_type": "code",
   "execution_count": 29,
   "id": "ba974bee-bcb1-4376-a114-8f9dc1bbd5d4",
   "metadata": {},
   "outputs": [
    {
     "name": "stdout",
     "output_type": "stream",
     "text": [
      "[1, 2, 3, 4, 5]\n"
     ]
    },
    {
     "ename": "NameError",
     "evalue": "name 'l' is not defined",
     "output_type": "error",
     "traceback": [
      "\u001b[1;31m---------------------------------------------------------------------------\u001b[0m",
      "\u001b[1;31mNameError\u001b[0m                                 Traceback (most recent call last)",
      "Cell \u001b[1;32mIn[29], line 5\u001b[0m\n\u001b[0;32m      3\u001b[0m \u001b[38;5;28mprint\u001b[39m(l)\n\u001b[0;32m      4\u001b[0m \u001b[38;5;28;01mdel\u001b[39;00m l\n\u001b[1;32m----> 5\u001b[0m \u001b[38;5;28mprint\u001b[39m(\u001b[43ml\u001b[49m)\n",
      "\u001b[1;31mNameError\u001b[0m: name 'l' is not defined"
     ]
    }
   ],
   "source": [
    "#del\n",
    "l = [1,2,3,4,5]\n",
    "print(l)\n",
    "del l\n",
    "print(l)"
   ]
  },
  {
   "cell_type": "code",
   "execution_count": 31,
   "id": "09ea5742-00e4-47b3-b118-a6059769cc7b",
   "metadata": {},
   "outputs": [
    {
     "name": "stdout",
     "output_type": "stream",
     "text": [
      "[1, 2, 3, 4, 5]\n",
      "[1, 2, 3, 4]\n",
      "[1, 4]\n"
     ]
    }
   ],
   "source": [
    "l = [1,2,3,4,5]\n",
    "print(l)\n",
    "# indexing\n",
    "del l[-1]\n",
    "print(l)\n",
    "# slicing\n",
    "del l[1:3]\n",
    "print(l)"
   ]
  },
  {
   "cell_type": "code",
   "execution_count": 32,
   "id": "7ba43e5f-5400-4acd-80bd-6b4d488bdb45",
   "metadata": {},
   "outputs": [
    {
     "name": "stdout",
     "output_type": "stream",
     "text": [
      "[1, 2, 3, 4]\n"
     ]
    }
   ],
   "source": [
    "# remove\n",
    "l = [1,2,3,4,5]\n",
    "l.remove(5)\n",
    "print(l)\n"
   ]
  },
  {
   "cell_type": "code",
   "execution_count": 34,
   "id": "1da62e67-c05b-4522-95d1-c947a5befafc",
   "metadata": {},
   "outputs": [
    {
     "name": "stdout",
     "output_type": "stream",
     "text": [
      "[2, 3, 4, 5]\n",
      "[1, 2, 3, 4]\n"
     ]
    }
   ],
   "source": [
    "#pop\n",
    "l = [1,2,3,4,5]\n",
    "l.pop(0)\n",
    "print(l)\n",
    "l = [1,2,3,4,5]\n",
    "l.pop()\n",
    "print(l)"
   ]
  },
  {
   "cell_type": "code",
   "execution_count": 36,
   "id": "4a1d129f-9e5b-4cb4-907d-5eec02d26d5a",
   "metadata": {},
   "outputs": [
    {
     "name": "stdout",
     "output_type": "stream",
     "text": [
      "[]\n"
     ]
    }
   ],
   "source": [
    "#clear\n",
    "l = [1,2,3,4,5]\n",
    "l.clear()\n",
    "print(l)"
   ]
  },
  {
   "cell_type": "code",
   "execution_count": 37,
   "id": "3a26811d-16e3-4505-a24f-79de83ddda0d",
   "metadata": {},
   "outputs": [
    {
     "name": "stdout",
     "output_type": "stream",
     "text": [
      "[1, 2, 3, 4, 5, 6, 7, 8]\n"
     ]
    }
   ],
   "source": [
    "# arithmetic (+,*)\n",
    "L1 = [1,2,3,4]\n",
    "L2 = [5,6,7,8]\n",
    "# concatination/merging\n",
    "print(L1 + L2)\n"
   ]
  },
  {
   "cell_type": "code",
   "execution_count": 38,
   "id": "52ef5063-4c81-4605-a9b2-8e3022530ef8",
   "metadata": {},
   "outputs": [
    {
     "name": "stdout",
     "output_type": "stream",
     "text": [
      "[1, 2, 3, 4, 1, 2, 3, 4, 1, 2, 3, 4]\n"
     ]
    }
   ],
   "source": [
    "print(L1*3)"
   ]
  },
  {
   "cell_type": "code",
   "execution_count": 39,
   "id": "713d91ca-9af4-400a-97a7-24631c0f44b4",
   "metadata": {},
   "outputs": [
    {
     "ename": "TypeError",
     "evalue": "can't multiply sequence by non-int of type 'list'",
     "output_type": "error",
     "traceback": [
      "\u001b[1;31m---------------------------------------------------------------------------\u001b[0m",
      "\u001b[1;31mTypeError\u001b[0m                                 Traceback (most recent call last)",
      "Cell \u001b[1;32mIn[39], line 1\u001b[0m\n\u001b[1;32m----> 1\u001b[0m \u001b[38;5;28mprint\u001b[39m(\u001b[43mL1\u001b[49m\u001b[38;5;241;43m*\u001b[39;49m\u001b[43mL2\u001b[49m)\n",
      "\u001b[1;31mTypeError\u001b[0m: can't multiply sequence by non-int of type 'list'"
     ]
    }
   ],
   "source": [
    "print(L1*L2)"
   ]
  },
  {
   "cell_type": "code",
   "execution_count": 42,
   "id": "f99b5ae4-cb99-4bb6-a56a-9c70b5715c0f",
   "metadata": {},
   "outputs": [
    {
     "name": "stdout",
     "output_type": "stream",
     "text": [
      "True\n",
      "False\n",
      "True\n"
     ]
    }
   ],
   "source": [
    "# membership\n",
    "L1 = [1,2,3,4,5]\n",
    "L2 = [1,2,3,4,[5,6]]\n",
    "print(5 in L1)\n",
    "print(5 in L2)\n",
    "print([5,6] in L2)"
   ]
  },
  {
   "cell_type": "code",
   "execution_count": 43,
   "id": "f102b8ac-add7-4092-995e-2222c5beab15",
   "metadata": {},
   "outputs": [
    {
     "name": "stdout",
     "output_type": "stream",
     "text": [
      "1\n",
      "2\n",
      "3\n",
      "4\n",
      "5\n",
      "1\n",
      "2\n",
      "3\n",
      "4\n",
      "[5, 6]\n"
     ]
    }
   ],
   "source": [
    "# loop\n",
    "L1 = [1,2,3,4,5]\n",
    "L2 = [1,2,3,4,[5,6]]\n",
    "for i in L1:\n",
    "    print(i)\n",
    "for i in L2:\n",
    "    print(i)\n"
   ]
  },
  {
   "cell_type": "code",
   "execution_count": 44,
   "id": "a83c14e8-386c-4a33-92fb-33be622f8977",
   "metadata": {},
   "outputs": [
    {
     "name": "stdout",
     "output_type": "stream",
     "text": [
      "[[1, 2], [3, 4]]\n",
      "[[5, 6], [7, 8]]\n"
     ]
    }
   ],
   "source": [
    "L3 = [[[1,2],[3,4]],[[5,6],[7,8]]]\n",
    "for i in L3:\n",
    "    print(i)"
   ]
  },
  {
   "cell_type": "code",
   "execution_count": 45,
   "id": "137444f0-e236-4cd1-99e8-00581ea8dc94",
   "metadata": {},
   "outputs": [
    {
     "name": "stdout",
     "output_type": "stream",
     "text": [
      "5\n",
      "0\n",
      "7\n",
      "[0, 1, 2, 5, 7]\n",
      "[7, 5, 2, 1, 0]\n"
     ]
    }
   ],
   "source": [
    "#len/min/max/sorted\n",
    "L = [2,1,5,7,0]\n",
    "print(len(L))\n",
    "print(min(L)) # works only for homogeneous data\n",
    "print(max(L)) # works only for homogeneous data\n",
    "print(sorted(L))\n",
    "print(sorted(L,reverse=True))\n",
    "\n",
    "\n",
    "\n"
   ]
  },
  {
   "cell_type": "code",
   "execution_count": 50,
   "id": "1534261e-8945-4e16-b4d0-923b5bc34e11",
   "metadata": {},
   "outputs": [
    {
     "name": "stdout",
     "output_type": "stream",
     "text": [
      "1\n"
     ]
    },
    {
     "data": {
      "text/plain": [
       "1"
      ]
     },
     "execution_count": 50,
     "metadata": {},
     "output_type": "execute_result"
    }
   ],
   "source": [
    "# count\n",
    "L = [1,2,3,4,5]\n",
    "print(L.count(5))\n",
    "L.count(5)"
   ]
  },
  {
   "cell_type": "code",
   "execution_count": 53,
   "id": "481319ce-994c-4ff2-bc83-6d73df4b98d3",
   "metadata": {},
   "outputs": [
    {
     "name": "stdout",
     "output_type": "stream",
     "text": [
      "6\n",
      "0\n"
     ]
    }
   ],
   "source": [
    "# index\n",
    "L = [1,2,1,3,4,1,5]\n",
    "print(L.index(5))\n",
    "print(L.index(1))"
   ]
  },
  {
   "cell_type": "code",
   "execution_count": 55,
   "id": "260a9911-0c2c-4827-b2c2-2bb0d881da4d",
   "metadata": {},
   "outputs": [
    {
     "name": "stdout",
     "output_type": "stream",
     "text": [
      "[0, 7, 5, 1, 2]\n"
     ]
    }
   ],
   "source": [
    "# reverse\n",
    "L = [2,1,5,7,0]\n",
    "# permanently reverses the list\n",
    "L.reverse()\n",
    "print(L)\n"
   ]
  },
  {
   "cell_type": "code",
   "execution_count": 56,
   "id": "2f19e0ee-3685-4e98-8063-05e690b5154a",
   "metadata": {},
   "outputs": [
    {
     "name": "stdout",
     "output_type": "stream",
     "text": [
      "[2, 1, 5, 7, 0]\n",
      "[0, 1, 2, 5, 7]\n",
      "[2, 1, 5, 7, 0]\n",
      "[0, 1, 2, 5, 7]\n"
     ]
    }
   ],
   "source": [
    "# sort vs sorted\n",
    "L = [2,1,5,7,0]\n",
    "print(L)\n",
    "print(sorted(L))\n",
    "print(L)\n",
    "L.sort()\n",
    "print(L)\n",
    "\n"
   ]
  },
  {
   "cell_type": "code",
   "execution_count": 58,
   "id": "7af2c72d-b00b-4446-ac88-c99cb256a358",
   "metadata": {},
   "outputs": [
    {
     "name": "stdout",
     "output_type": "stream",
     "text": [
      "[2, 1, 5, 7, 0]\n",
      "2028531859968\n",
      "[2, 1, 5, 7, 0]\n",
      "2028532026112\n"
     ]
    }
   ],
   "source": [
    "# copy -> shallow\n",
    "L = [2,1,5,7,0]\n",
    "print(L)\n",
    "print(id(L))\n",
    "L1 = L.copy()\n",
    "print(L1)\n",
    "print(id(L1))\n"
   ]
  },
  {
   "cell_type": "code",
   "execution_count": 59,
   "id": "8803aed3-fb86-4178-9c0b-443a9563392e",
   "metadata": {},
   "outputs": [
    {
     "name": "stdout",
     "output_type": "stream",
     "text": [
      "[1, 2, 3, 4, 5, 6, 7, 8, 9, 10]\n"
     ]
    }
   ],
   "source": [
    "# list comprehension\n",
    "L = [i for i in range (1,11)]\n",
    "print(L)"
   ]
  },
  {
   "cell_type": "code",
   "execution_count": 60,
   "id": "145d8b35-dbaf-487e-aa40-bb7d5121a5ed",
   "metadata": {},
   "outputs": [
    {
     "data": {
      "text/plain": [
       "[-6, -9, -12]"
      ]
     },
     "execution_count": 60,
     "metadata": {},
     "output_type": "execute_result"
    }
   ],
   "source": [
    "# scalar multiplication on a  vector\n",
    "v = [2,3,4]\n",
    "s = -3\n",
    "[s*i for i in v]"
   ]
  },
  {
   "cell_type": "code",
   "execution_count": 61,
   "id": "071a9f13-be55-418d-9da4-212efb798c26",
   "metadata": {},
   "outputs": [
    {
     "data": {
      "text/plain": [
       "[1, 4, 9, 16, 25]"
      ]
     },
     "execution_count": 61,
     "metadata": {},
     "output_type": "execute_result"
    }
   ],
   "source": [
    "# add squares\n",
    "L = [1,2,3,4,5]\n",
    "[i**2 for i in L]"
   ]
  },
  {
   "cell_type": "code",
   "execution_count": 62,
   "id": "bd2ff2d8-643e-4672-94cd-ec72a0ed2465",
   "metadata": {},
   "outputs": [
    {
     "data": {
      "text/plain": [
       "[5, 10, 15, 20, 25, 30, 35, 40, 45, 50]"
      ]
     },
     "execution_count": 62,
     "metadata": {},
     "output_type": "execute_result"
    }
   ],
   "source": [
    "# print all  the numbers divible by 5 in the range of 1 to 50\n",
    "[i for i in range(1,51) if i%5==0]"
   ]
  },
  {
   "cell_type": "code",
   "execution_count": 63,
   "id": "3f7d14d5-0511-4eb4-9314-2e73007c0858",
   "metadata": {},
   "outputs": [
    {
     "data": {
      "text/plain": [
       "['python', 'php']"
      ]
     },
     "execution_count": 63,
     "metadata": {},
     "output_type": "execute_result"
    }
   ],
   "source": [
    "# find languages which start with letter p\n",
    "languages = ['java','python','php','c','javascripts']\n",
    "[language for language in languages if language.startswith('p')]"
   ]
  },
  {
   "cell_type": "code",
   "execution_count": 66,
   "id": "5de52248-c962-466a-ad56-b2170b1cbb0f",
   "metadata": {},
   "outputs": [
    {
     "data": {
      "text/plain": [
       "['apple']"
      ]
     },
     "execution_count": 66,
     "metadata": {},
     "output_type": "execute_result"
    }
   ],
   "source": [
    "# nested if with list comprehension\n",
    "basket = ['apple','guava','cherry','banana']\n",
    "my_fruits = ['apple','kiwi','grapes','banana']\n",
    "# add new list from my_fruits and items if the fruit exists in basket and also starts with 'a'\n",
    "[fruit for fruit in my_fruits if fruit in basket if fruit.startswith('a')]\n"
   ]
  },
  {
   "cell_type": "code",
   "execution_count": 69,
   "id": "5cebd416-2bb4-411a-b4b4-32b98544323b",
   "metadata": {},
   "outputs": [
    {
     "data": {
      "text/plain": [
       "[[1, 2, 3], [2, 4, 6], [3, 6, 9]]"
      ]
     },
     "execution_count": 69,
     "metadata": {},
     "output_type": "execute_result"
    }
   ],
   "source": [
    "# print a (3,3) matrix using list comprehension -> Nested list comprehension\n",
    "[[i*j for i in range(1,4)] for j in range(1,4)] # bahar se andar move karta hai"
   ]
  },
  {
   "cell_type": "code",
   "execution_count": 68,
   "id": "f2dab443-594e-4097-a9ce-036091b8ac24",
   "metadata": {},
   "outputs": [
    {
     "data": {
      "text/plain": [
       "[5, 6, 7, 8, 10, 12, 14, 16, 15, 18, 21, 24, 20, 24, 28, 32]"
      ]
     },
     "execution_count": 68,
     "metadata": {},
     "output_type": "execute_result"
    }
   ],
   "source": [
    "# cartesian products -> list comprehension on 2 lists together\n",
    "L1 = [1,2,3,4]\n",
    "L2 = [5,6,7,8]\n",
    "[i*j for i in L1 for j in L2]"
   ]
  },
  {
   "cell_type": "code",
   "execution_count": 70,
   "id": "fb6d1b41-29c5-40e1-aabb-525ceba28e2a",
   "metadata": {},
   "outputs": [
    {
     "name": "stdout",
     "output_type": "stream",
     "text": [
      "1\n",
      "2\n",
      "3\n",
      "4\n"
     ]
    }
   ],
   "source": [
    "# itemwise\n",
    "L = [1,2,3,4]\n",
    "for i in L:\n",
    "    print(i)"
   ]
  },
  {
   "cell_type": "code",
   "execution_count": 74,
   "id": "81d116e3-ed0d-4e6f-b27a-41aa2ed9cbcb",
   "metadata": {},
   "outputs": [
    {
     "name": "stdout",
     "output_type": "stream",
     "text": [
      "0\n",
      "1\n",
      "2\n",
      "3\n"
     ]
    }
   ],
   "source": [
    "# indexwise\n",
    "L = [1,2,3,4]\n",
    "for i in range(0,len(L)):\n",
    "    print(i) # printing index position"
   ]
  },
  {
   "cell_type": "code",
   "execution_count": 75,
   "id": "9663335e-28e9-4503-938d-97f27f80ae80",
   "metadata": {},
   "outputs": [
    {
     "name": "stdout",
     "output_type": "stream",
     "text": [
      "1\n",
      "2\n",
      "3\n",
      "4\n"
     ]
    }
   ],
   "source": [
    "# indexwise\n",
    "L = [1,2,3,4]\n",
    "for i in range(0,len(L)):\n",
    "    \n",
    "    print(L[i]) # printing items of the list"
   ]
  },
  {
   "cell_type": "code",
   "execution_count": 77,
   "id": "36cae553-ad5e-4963-8312-473dd77311c4",
   "metadata": {},
   "outputs": [
    {
     "data": {
      "text/plain": [
       "[0, 0, 0, 0]"
      ]
     },
     "execution_count": 77,
     "metadata": {},
     "output_type": "execute_result"
    }
   ],
   "source": [
    "# zip\n",
    "# wap to add items of 2 lists indexwise\n",
    "L1 = [1,2,3,4]\n",
    "L2 = [-1,-2,-3,-4]\n",
    "list(zip(L1,L2))\n",
    "[i+j for i,j in (zip(L1,L2))]"
   ]
  },
  {
   "cell_type": "code",
   "execution_count": 78,
   "id": "312693d3-9b3e-4ed7-8d15-b9952026a61f",
   "metadata": {},
   "outputs": [
    {
     "name": "stdout",
     "output_type": "stream",
     "text": [
      "[1, 2, <built-in function print>, <class 'type'>, <bound method Kernel.raw_input of <ipykernel.ipkernel.IPythonKernel object at 0x000001D84C3BF3B0>>]\n"
     ]
    }
   ],
   "source": [
    "# can store any kind of object in python\n",
    "L = [1,2,print,type,input]\n",
    "print(L)"
   ]
  },
  {
   "cell_type": "code",
   "execution_count": 79,
   "id": "f1ad61e8-4453-43b3-aab5-472a0714e46c",
   "metadata": {},
   "outputs": [
    {
     "name": "stdout",
     "output_type": "stream",
     "text": [
      "[1, 2, 3]\n",
      "[1, 2, 3]\n",
      "[1, 2, 3, 4]\n",
      "[1, 2, 3, 4]\n"
     ]
    }
   ],
   "source": [
    "# risk usage\n",
    "a = [1,2,3]\n",
    "b = a\n",
    "print(a)\n",
    "print(b)\n",
    "a.append(4)\n",
    "print(a)\n",
    "print(b)\n",
    " # lists are mutable"
   ]
  },
  {
   "cell_type": "code",
   "execution_count": 80,
   "id": "94a20ded-c4ac-4744-9865-d51c4152f901",
   "metadata": {},
   "outputs": [
    {
     "name": "stdout",
     "output_type": "stream",
     "text": [
      "[1, 2, 3]\n",
      "[1, 2, 3]\n",
      "[1, 2, 3, 4]\n",
      "[1, 2, 3]\n"
     ]
    }
   ],
   "source": [
    "a = [1,2,3]\n",
    "b = a.copy()\n",
    "print(a)\n",
    "print(b)\n",
    "a.append(4)\n",
    "print(a)\n",
    "print(b)"
   ]
  },
  {
   "cell_type": "code",
   "execution_count": null,
   "id": "a81e90aa-f842-4c27-b154-bda14e979bfd",
   "metadata": {},
   "outputs": [],
   "source": []
  }
 ],
 "metadata": {
  "kernelspec": {
   "display_name": "Python 3 (ipykernel)",
   "language": "python",
   "name": "python3"
  },
  "language_info": {
   "codemirror_mode": {
    "name": "ipython",
    "version": 3
   },
   "file_extension": ".py",
   "mimetype": "text/x-python",
   "name": "python",
   "nbconvert_exporter": "python",
   "pygments_lexer": "ipython3",
   "version": "3.12.3"
  }
 },
 "nbformat": 4,
 "nbformat_minor": 5
}
