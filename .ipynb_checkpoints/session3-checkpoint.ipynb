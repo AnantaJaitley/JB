{
 "cells": [
  {
   "cell_type": "code",
   "execution_count": 1,
   "id": "01c77982-413e-4c44-8df4-645ccdec3f81",
   "metadata": {},
   "outputs": [
    {
     "name": "stdin",
     "output_type": "stream",
     "text": [
      "enter a number 14\n"
     ]
    },
    {
     "name": "stdout",
     "output_type": "stream",
     "text": [
      "2.7182818284467594\n"
     ]
    }
   ],
   "source": [
    "# sequence code\n",
    "# 1/1!+2/2!+3/3!...\n",
    "n=int(input('enter a number'))\n",
    "result=0\n",
    "fact=1\n",
    "for i in range(1,n+1):\n",
    "    fact = fact*i\n",
    "    result = result+i/fact\n",
    "print(result)\n",
    "    \n",
    "\n",
    "\n",
    "\n",
    "      \n"
   ]
  },
  {
   "cell_type": "code",
   "execution_count": 3,
   "id": "69c6adf2-e9a4-435b-b8b3-653bcdb6f2cb",
   "metadata": {},
   "outputs": [
    {
     "name": "stdout",
     "output_type": "stream",
     "text": [
      "1 1\n",
      "1 2\n",
      "1 3\n",
      "1 4\n",
      "2 1\n",
      "2 2\n",
      "2 3\n",
      "2 4\n",
      "3 1\n",
      "3 2\n",
      "3 3\n",
      "3 4\n",
      "4 1\n",
      "4 2\n",
      "4 3\n",
      "4 4\n"
     ]
    }
   ],
   "source": [
    "# nested loop\n",
    "for i in range(1,5):\n",
    "    for j in range(1,5):\n",
    "        print(i,j)"
   ]
  },
  {
   "cell_type": "code",
   "execution_count": 4,
   "id": "29bec713-5677-40c4-928f-3e24dafecb0d",
   "metadata": {},
   "outputs": [
    {
     "name": "stdin",
     "output_type": "stream",
     "text": [
      "Enter number of rows 5\n"
     ]
    },
    {
     "name": "stdout",
     "output_type": "stream",
     "text": [
      "*\n",
      "**\n",
      "***\n",
      "****\n",
      "*****\n"
     ]
    }
   ],
   "source": [
    "# pattern\n",
    "rows = int(input('Enter number of rows'))\n",
    "for i in range(1,rows+1):\n",
    "    for j in range(1,i+1):\n",
    "     print('*',end='')\n",
    "    print()    \n",
    "        \n",
    "    \n",
    "        "
   ]
  },
  {
   "cell_type": "code",
   "execution_count": 5,
   "id": "436b50eb-8029-407f-bee9-d52944156806",
   "metadata": {},
   "outputs": [
    {
     "name": "stdin",
     "output_type": "stream",
     "text": [
      "Enter number of rows 6\n"
     ]
    },
    {
     "name": "stdout",
     "output_type": "stream",
     "text": [
      "1\n",
      "121\n",
      "12321\n",
      "1234321\n",
      "123454321\n",
      "12345654321\n"
     ]
    }
   ],
   "source": [
    "rows = int(input('Enter number of rows'))\n",
    "for i in range(1,rows+1):\n",
    "    for j in range(1,i+1):\n",
    "     print(j,end='')\n",
    "    for k in range(i-1,0,-1):\n",
    "        print(k,end='')\n",
    "        \n",
    "    \n",
    "    print()\n",
    "        "
   ]
  },
  {
   "cell_type": "code",
   "execution_count": 13,
   "id": "1c1fb993-baa3-41ac-a7b3-52189f386b10",
   "metadata": {},
   "outputs": [
    {
     "name": "stdin",
     "output_type": "stream",
     "text": [
      "Enter number of rows 5\n"
     ]
    },
    {
     "name": "stdout",
     "output_type": "stream",
     "text": [
      "***************"
     ]
    }
   ],
   "source": [
    "rows = int(input('Enter number of rows'))\n",
    "for i in range(1,rows+1):\n",
    "    for j in range(1,i+1):\n",
    "     print('*',end='')\n",
    "       \n",
    "        "
   ]
  },
  {
   "cell_type": "code",
   "execution_count": 14,
   "id": "7a549f28-a754-4b52-802f-d7f1b801f900",
   "metadata": {},
   "outputs": [
    {
     "name": "stdin",
     "output_type": "stream",
     "text": [
      "Enter number of rows 5\n"
     ]
    },
    {
     "name": "stdout",
     "output_type": "stream",
     "text": [
      "*\n",
      "*\n",
      "*\n",
      "*\n",
      "*\n",
      "*\n",
      "*\n",
      "*\n",
      "*\n",
      "*\n",
      "*\n",
      "*\n",
      "*\n",
      "*\n",
      "*\n"
     ]
    }
   ],
   "source": [
    "rows = int(input('Enter number of rows'))\n",
    "for i in range(1,rows+1):\n",
    "    for j in range(1,i+1):\n",
    "     print('*')"
   ]
  },
  {
   "cell_type": "code",
   "execution_count": 15,
   "id": "536ac144-6a78-4abd-a41b-d0139bbca451",
   "metadata": {},
   "outputs": [
    {
     "name": "stdin",
     "output_type": "stream",
     "text": [
      "Enter number of rows 5\n"
     ]
    },
    {
     "name": "stdout",
     "output_type": "stream",
     "text": [
      "*\n",
      "\n",
      "*\n",
      "*\n",
      "\n",
      "*\n",
      "*\n",
      "*\n",
      "\n",
      "*\n",
      "*\n",
      "*\n",
      "*\n",
      "\n",
      "*\n",
      "*\n",
      "*\n",
      "*\n",
      "*\n",
      "\n"
     ]
    }
   ],
   "source": [
    "rows = int(input('Enter number of rows'))\n",
    "for i in range(1,rows+1):\n",
    "    for j in range(1,i+1):\n",
    "     print('*')\n",
    "    print()    "
   ]
  },
  {
   "cell_type": "code",
   "execution_count": 11,
   "id": "c6972c4b-e7c0-4fea-b4e6-b4ea495ad0b2",
   "metadata": {},
   "outputs": [
    {
     "name": "stdout",
     "output_type": "stream",
     "text": [
      "1\n",
      "2\n",
      "3\n",
      "4\n"
     ]
    }
   ],
   "source": [
    "#break\n",
    "for i in range(1,10):\n",
    "    if i==5:\n",
    "        break\n",
    "    print(i) "
   ]
  },
  {
   "cell_type": "code",
   "execution_count": 9,
   "id": "442acff3-4607-4b6a-a4c9-2720fa64fe77",
   "metadata": {},
   "outputs": [
    {
     "name": "stdin",
     "output_type": "stream",
     "text": [
      "Enter lower number 10\n",
      "Enter upper number 100\n"
     ]
    },
    {
     "name": "stdout",
     "output_type": "stream",
     "text": [
      "11\n",
      "13\n",
      "17\n",
      "19\n",
      "23\n",
      "29\n",
      "31\n",
      "37\n",
      "41\n",
      "43\n",
      "47\n",
      "53\n",
      "59\n",
      "61\n",
      "67\n",
      "71\n",
      "73\n",
      "79\n",
      "83\n",
      "89\n",
      "97\n",
      "101\n",
      "103\n",
      "107\n",
      "109\n",
      "113\n",
      "127\n",
      "131\n",
      "137\n",
      "139\n",
      "149\n",
      "151\n",
      "157\n",
      "163\n",
      "167\n",
      "173\n",
      "179\n",
      "181\n",
      "191\n",
      "193\n",
      "197\n",
      "199\n"
     ]
    }
   ],
   "source": [
    "lower = int(input('Enter lower number'))\n",
    "upper = int(input('Enter upper number'))\n",
    "for i in range(lower,upper+i):\n",
    "    for j in range(2,i):\n",
    "        if i%j == 0:\n",
    "            break\n",
    "    else:\n",
    "        print(i)\n",
    "        \n",
    "            "
   ]
  },
  {
   "cell_type": "code",
   "execution_count": 12,
   "id": "5c60cd65-8868-439c-b4ba-abcdcf526e44",
   "metadata": {},
   "outputs": [
    {
     "name": "stdout",
     "output_type": "stream",
     "text": [
      "1\n",
      "2\n",
      "3\n",
      "4\n",
      "6\n",
      "7\n",
      "8\n",
      "9\n"
     ]
    }
   ],
   "source": [
    "#contiue\n",
    "for i in range(1,10):\n",
    "    if i==5:\n",
    "        continue\n",
    "    print(i) "
   ]
  },
  {
   "cell_type": "code",
   "execution_count": 13,
   "id": "be009ec5-23df-45ff-b374-ac9b274c6083",
   "metadata": {},
   "outputs": [],
   "source": [
    "# pass\n",
    "for i in range(1,10):\n",
    "    pass"
   ]
  },
  {
   "cell_type": "code",
   "execution_count": 17,
   "id": "26b60292-77ae-4e4e-a3af-6f752e084e37",
   "metadata": {},
   "outputs": [
    {
     "name": "stdout",
     "output_type": "stream",
     "text": [
      "hello\n"
     ]
    }
   ],
   "source": [
    "# creating String\n",
    "s = 'hello'\n",
    "s = \"hello\"\n",
    "s = '''hello''' #multiline string\n",
    "s = \"\"\"hello\"\"\"#multiline string\n",
    "s = str('hello')\n",
    "print(s)"
   ]
  },
  {
   "cell_type": "code",
   "execution_count": 15,
   "id": "e639eb62-235a-4652-bcd9-819d19a8dd8f",
   "metadata": {},
   "outputs": [
    {
     "ename": "SyntaxError",
     "evalue": "unterminated string literal (detected at line 1) (3561637438.py, line 1)",
     "output_type": "error",
     "traceback": [
      "\u001b[1;36m  Cell \u001b[1;32mIn[15], line 1\u001b[1;36m\u001b[0m\n\u001b[1;33m    print('it's raining outside')\u001b[0m\n\u001b[1;37m                               ^\u001b[0m\n\u001b[1;31mSyntaxError\u001b[0m\u001b[1;31m:\u001b[0m unterminated string literal (detected at line 1)\n"
     ]
    }
   ],
   "source": [
    "print('it's raining outside')"
   ]
  },
  {
   "cell_type": "code",
   "execution_count": 16,
   "id": "fc5a4caa-6ab0-4919-b3c4-82adbf682197",
   "metadata": {},
   "outputs": [
    {
     "name": "stdout",
     "output_type": "stream",
     "text": [
      "it's raining outside\n"
     ]
    }
   ],
   "source": [
    "print(\"it's raining outside\")"
   ]
  },
  {
   "cell_type": "code",
   "execution_count": 19,
   "id": "69a10d11-19a4-4be8-a36f-4d5d0868de9a",
   "metadata": {},
   "outputs": [
    {
     "name": "stdout",
     "output_type": "stream",
     "text": [
      "o\n"
     ]
    }
   ],
   "source": [
    "#positive indexing, starts from 0\n",
    "s = 'hello world'\n",
    "print(s[4])\n"
   ]
  },
  {
   "cell_type": "code",
   "execution_count": 22,
   "id": "cde9e91c-26e3-4bf1-a22c-c01974d36fd2",
   "metadata": {},
   "outputs": [
    {
     "name": "stdout",
     "output_type": "stream",
     "text": [
      "d\n",
      "l\n",
      "r\n"
     ]
    }
   ],
   "source": [
    "#negative indexing,going from right to left,in -ve nos. Starts with -1\n",
    "s = 'hello world'\n",
    "print(s[-1])\n",
    "print(s[-2])\n",
    "print(s[-3])\n"
   ]
  },
  {
   "cell_type": "code",
   "execution_count": 27,
   "id": "1cf5806f-7cd7-4aba-ac5e-054810d346af",
   "metadata": {},
   "outputs": [
    {
     "name": "stdout",
     "output_type": "stream",
     "text": [
      "ll\n",
      "hell\n",
      "llo world\n",
      "hello world\n",
      "hlo\n",
      "w olle\n",
      "wol\n",
      "dlrow olleh\n"
     ]
    }
   ],
   "source": [
    "# slicing used for finding substring\n",
    "s = 'hello world'\n",
    "print(s[2:4])\n",
    "print(s[:4])\n",
    "print(s[2:])\n",
    "print(s[:])\n",
    "print(s[0:6:2])#step size\n",
    "print(s[6:0:-1])# for reversing, negative step size\n",
    "print(s[6:0:-2])\n",
    "print(s[::-1])#for reversing the string"
   ]
  },
  {
   "cell_type": "code",
   "execution_count": 28,
   "id": "956aad59-cbb1-4fd0-9c1d-5cadb7b2c20e",
   "metadata": {},
   "outputs": [
    {
     "name": "stdout",
     "output_type": "stream",
     "text": [
      "world\n",
      "dlrow\n"
     ]
    }
   ],
   "source": [
    "s = 'hello world'\n",
    "print(s[-5:])\n",
    "print(s[-1:-6:-1])"
   ]
  },
  {
   "cell_type": "code",
   "execution_count": 29,
   "id": "6e4973a8-1fa8-417a-a7e8-6938f078005d",
   "metadata": {},
   "outputs": [
    {
     "ename": "TypeError",
     "evalue": "'str' object does not support item assignment",
     "output_type": "error",
     "traceback": [
      "\u001b[1;31m---------------------------------------------------------------------------\u001b[0m",
      "\u001b[1;31mTypeError\u001b[0m                                 Traceback (most recent call last)",
      "Cell \u001b[1;32mIn[29], line 3\u001b[0m\n\u001b[0;32m      1\u001b[0m \u001b[38;5;66;03m# editing and deleting in string\u001b[39;00m\n\u001b[0;32m      2\u001b[0m s \u001b[38;5;241m=\u001b[39m \u001b[38;5;124m'\u001b[39m\u001b[38;5;124mhello world\u001b[39m\u001b[38;5;124m'\u001b[39m\n\u001b[1;32m----> 3\u001b[0m \u001b[43ms\u001b[49m\u001b[43m[\u001b[49m\u001b[38;5;241;43m0\u001b[39;49m\u001b[43m]\u001b[49m \u001b[38;5;241m=\u001b[39m \u001b[38;5;124m'\u001b[39m\u001b[38;5;124mH\u001b[39m\u001b[38;5;124m'\u001b[39m\n",
      "\u001b[1;31mTypeError\u001b[0m: 'str' object does not support item assignment"
     ]
    }
   ],
   "source": [
    "# editing and deleting in string\n",
    "s = 'hello world'\n",
    "s[0] = 'H'\n",
    "# python strings are immutable cannot be changed)\n",
    "\n"
   ]
  },
  {
   "cell_type": "code",
   "execution_count": 31,
   "id": "f751d1a3-06fd-4f29-98f3-998614f516dd",
   "metadata": {},
   "outputs": [
    {
     "ename": "NameError",
     "evalue": "name 's' is not defined",
     "output_type": "error",
     "traceback": [
      "\u001b[1;31m---------------------------------------------------------------------------\u001b[0m",
      "\u001b[1;31mNameError\u001b[0m                                 Traceback (most recent call last)",
      "Cell \u001b[1;32mIn[31], line 4\u001b[0m\n\u001b[0;32m      2\u001b[0m s \u001b[38;5;241m=\u001b[39m \u001b[38;5;124m'\u001b[39m\u001b[38;5;124mhello world\u001b[39m\u001b[38;5;124m'\u001b[39m\n\u001b[0;32m      3\u001b[0m \u001b[38;5;28;01mdel\u001b[39;00m s\n\u001b[1;32m----> 4\u001b[0m \u001b[38;5;28mprint\u001b[39m(\u001b[43ms\u001b[49m)\n",
      "\u001b[1;31mNameError\u001b[0m: name 's' is not defined"
     ]
    }
   ],
   "source": [
    "# deleting in string\n",
    "s = 'hello world'\n",
    "del s\n",
    "print(s)"
   ]
  },
  {
   "cell_type": "code",
   "execution_count": 32,
   "id": "becf3f00-fc62-4bfe-ae6b-98137787c0f8",
   "metadata": {},
   "outputs": [
    {
     "name": "stdout",
     "output_type": "stream",
     "text": [
      "delhimumbai\n",
      "delhi mumbai\n",
      "delhidelhidelhidelhidelhi\n"
     ]
    }
   ],
   "source": [
    "# arithmetic operation\n",
    "print('delhi'+'mumbai')\n",
    "print('delhi'+' '+'mumbai')\n",
    "print('delhi'*5)"
   ]
  },
  {
   "cell_type": "code",
   "execution_count": 33,
   "id": "6d4c3ab5-c0db-4b0a-a838-e101bbeb3ca1",
   "metadata": {},
   "outputs": [
    {
     "name": "stdout",
     "output_type": "stream",
     "text": [
      "**************************************************\n"
     ]
    }
   ],
   "source": [
    "print('*'*50)"
   ]
  },
  {
   "cell_type": "code",
   "execution_count": 34,
   "id": "2f3bf844-9fd3-483e-8309-0d7ac751f581",
   "metadata": {},
   "outputs": [
    {
     "data": {
      "text/plain": [
       "False"
      ]
     },
     "execution_count": 34,
     "metadata": {},
     "output_type": "execute_result"
    }
   ],
   "source": [
    "'delhi'!='delhi'"
   ]
  },
  {
   "cell_type": "code",
   "execution_count": 36,
   "id": "7995a2e3-0069-4aa0-b2ae-4d85f3374f90",
   "metadata": {},
   "outputs": [
    {
     "data": {
      "text/plain": [
       "False"
      ]
     },
     "execution_count": 36,
     "metadata": {},
     "output_type": "execute_result"
    }
   ],
   "source": [
    "'mumbai' > 'pune' #lexiograghically"
   ]
  },
  {
   "cell_type": "code",
   "execution_count": 37,
   "id": "2d995d49-8ca0-4221-8860-75eefa97c0b3",
   "metadata": {},
   "outputs": [
    {
     "data": {
      "text/plain": [
       "False"
      ]
     },
     "execution_count": 37,
     "metadata": {},
     "output_type": "execute_result"
    }
   ],
   "source": [
    "'Pune' > 'pune'"
   ]
  },
  {
   "cell_type": "code",
   "execution_count": 38,
   "id": "96cf9aa5-7885-4d97-9a8f-b3768552a792",
   "metadata": {},
   "outputs": [
    {
     "data": {
      "text/plain": [
       "'world'"
      ]
     },
     "execution_count": 38,
     "metadata": {},
     "output_type": "execute_result"
    }
   ],
   "source": [
    "'hello' and 'world'"
   ]
  },
  {
   "cell_type": "code",
   "execution_count": 39,
   "id": "f108ec1c-4ef9-40ee-85dd-5ccbbb00a306",
   "metadata": {},
   "outputs": [
    {
     "data": {
      "text/plain": [
       "'hello'"
      ]
     },
     "execution_count": 39,
     "metadata": {},
     "output_type": "execute_result"
    }
   ],
   "source": [
    "'hello' or 'world'"
   ]
  },
  {
   "cell_type": "code",
   "execution_count": 40,
   "id": "13325340-d59f-451d-b818-b235df8c1a64",
   "metadata": {},
   "outputs": [
    {
     "data": {
      "text/plain": [
       "''"
      ]
     },
     "execution_count": 40,
     "metadata": {},
     "output_type": "execute_result"
    }
   ],
   "source": [
    "'' and 'world'"
   ]
  },
  {
   "cell_type": "code",
   "execution_count": 41,
   "id": "64683682-bb16-40a1-ac14-8ddea19a1c74",
   "metadata": {},
   "outputs": [
    {
     "data": {
      "text/plain": [
       "'world'"
      ]
     },
     "execution_count": 41,
     "metadata": {},
     "output_type": "execute_result"
    }
   ],
   "source": [
    "'' or 'world'"
   ]
  },
  {
   "cell_type": "code",
   "execution_count": 42,
   "id": "0837589b-62d4-471e-b4a3-14c6aac0b842",
   "metadata": {},
   "outputs": [
    {
     "data": {
      "text/plain": [
       "True"
      ]
     },
     "execution_count": 42,
     "metadata": {},
     "output_type": "execute_result"
    }
   ],
   "source": [
    "not ''"
   ]
  },
  {
   "cell_type": "code",
   "execution_count": 44,
   "id": "7552c6aa-664d-4d37-b216-06a09b8034f8",
   "metadata": {},
   "outputs": [
    {
     "data": {
      "text/plain": [
       "False"
      ]
     },
     "execution_count": 44,
     "metadata": {},
     "output_type": "execute_result"
    }
   ],
   "source": [
    "not 'hello'"
   ]
  },
  {
   "cell_type": "code",
   "execution_count": 45,
   "id": "9167c52a-aa00-4ca5-99c4-528802cb2a07",
   "metadata": {},
   "outputs": [
    {
     "name": "stdout",
     "output_type": "stream",
     "text": [
      "pune\n",
      "pune\n",
      "pune\n",
      "pune\n",
      "pune\n"
     ]
    }
   ],
   "source": [
    "for i in 'delhi':\n",
    "    print('pune')\n",
    "\n"
   ]
  },
  {
   "cell_type": "code",
   "execution_count": 46,
   "id": "64c9e277-989b-486d-8856-df9949fe0b44",
   "metadata": {},
   "outputs": [
    {
     "data": {
      "text/plain": [
       "False"
      ]
     },
     "execution_count": 46,
     "metadata": {},
     "output_type": "execute_result"
    }
   ],
   "source": [
    "# membership operator\n",
    "'D' in 'Delhi'\n",
    "'D' not in 'Delhi'"
   ]
  },
  {
   "cell_type": "code",
   "execution_count": 47,
   "id": "d8f22469-2804-4396-93a3-2583f9738a1d",
   "metadata": {},
   "outputs": [
    {
     "data": {
      "text/plain": [
       "11"
      ]
     },
     "execution_count": 47,
     "metadata": {},
     "output_type": "execute_result"
    }
   ],
   "source": [
    "# String functions\n",
    "len('hello world')"
   ]
  },
  {
   "cell_type": "code",
   "execution_count": 48,
   "id": "c5fd2cb0-6b81-4abe-93c3-668eebc3222a",
   "metadata": {},
   "outputs": [
    {
     "data": {
      "text/plain": [
       "'w'"
      ]
     },
     "execution_count": 48,
     "metadata": {},
     "output_type": "execute_result"
    }
   ],
   "source": [
    "max('hello world')"
   ]
  },
  {
   "cell_type": "code",
   "execution_count": 49,
   "id": "27faecfb-26a5-440a-bfce-0d3a3850ebcf",
   "metadata": {},
   "outputs": [
    {
     "data": {
      "text/plain": [
       "' '"
      ]
     },
     "execution_count": 49,
     "metadata": {},
     "output_type": "execute_result"
    }
   ],
   "source": [
    "min('hello world')"
   ]
  },
  {
   "cell_type": "code",
   "execution_count": 51,
   "id": "28392ce8-f54d-4bce-b8a0-1005622e5559",
   "metadata": {},
   "outputs": [
    {
     "data": {
      "text/plain": [
       "['w', 'r', 'o', 'o', 'l', 'l', 'l', 'h', 'e', 'd', ' ']"
      ]
     },
     "execution_count": 51,
     "metadata": {},
     "output_type": "execute_result"
    }
   ],
   "source": [
    "sorted('hello world',reverse=True)"
   ]
  },
  {
   "cell_type": "code",
   "execution_count": 52,
   "id": "b42d11b5-4d8a-4560-92a2-d947f22edf27",
   "metadata": {},
   "outputs": [
    {
     "data": {
      "text/plain": [
       "[' ', 'd', 'e', 'h', 'l', 'l', 'l', 'o', 'o', 'r', 'w']"
      ]
     },
     "execution_count": 52,
     "metadata": {},
     "output_type": "execute_result"
    }
   ],
   "source": [
    "sorted('hello world')"
   ]
  },
  {
   "cell_type": "code",
   "execution_count": 78,
   "id": "3ee20820-cf3a-4c93-b590-cbd154593912",
   "metadata": {},
   "outputs": [
    {
     "name": "stdout",
     "output_type": "stream",
     "text": [
      "Hello world\n",
      "hello world\n"
     ]
    }
   ],
   "source": [
    "s = 'hello world'\n",
    "print(s.capitalize())\n",
    "print(s)"
   ]
  },
  {
   "cell_type": "code",
   "execution_count": 54,
   "id": "98fe3a70-4268-4e07-9e5a-5795e87bf12b",
   "metadata": {},
   "outputs": [
    {
     "data": {
      "text/plain": [
       "'Hello World'"
      ]
     },
     "execution_count": 54,
     "metadata": {},
     "output_type": "execute_result"
    }
   ],
   "source": [
    "s = 'hello world'\n",
    "s.title()"
   ]
  },
  {
   "cell_type": "code",
   "execution_count": 55,
   "id": "8b888d56-c017-414d-a1e4-ce26334cbbb6",
   "metadata": {},
   "outputs": [
    {
     "data": {
      "text/plain": [
       "'HELLO WORLD'"
      ]
     },
     "execution_count": 55,
     "metadata": {},
     "output_type": "execute_result"
    }
   ],
   "source": [
    "s.upper()"
   ]
  },
  {
   "cell_type": "code",
   "execution_count": 57,
   "id": "b27c8b46-6589-4fbf-a5b2-340440eb29fe",
   "metadata": {},
   "outputs": [
    {
     "data": {
      "text/plain": [
       "'hello world'"
      ]
     },
     "execution_count": 57,
     "metadata": {},
     "output_type": "execute_result"
    }
   ],
   "source": [
    "s.lower()"
   ]
  },
  {
   "cell_type": "code",
   "execution_count": 58,
   "id": "f64a23cc-3b11-4db0-a9b4-29dc9658744d",
   "metadata": {},
   "outputs": [
    {
     "data": {
      "text/plain": [
       "'ananta'"
      ]
     },
     "execution_count": 58,
     "metadata": {},
     "output_type": "execute_result"
    }
   ],
   "source": [
    "'Ananta'.lower()"
   ]
  },
  {
   "cell_type": "code",
   "execution_count": 59,
   "id": "e81553d6-e247-416b-86dd-63e287ad7d5d",
   "metadata": {},
   "outputs": [
    {
     "data": {
      "text/plain": [
       "'hElLO wOrLd'"
      ]
     },
     "execution_count": 59,
     "metadata": {},
     "output_type": "execute_result"
    }
   ],
   "source": [
    "'HeLlo WoRlD'.swapcase()"
   ]
  },
  {
   "cell_type": "code",
   "execution_count": 61,
   "id": "08a57e65-0bbe-4358-abea-a78d3da1aeff",
   "metadata": {},
   "outputs": [
    {
     "data": {
      "text/plain": [
       "3"
      ]
     },
     "execution_count": 61,
     "metadata": {},
     "output_type": "execute_result"
    }
   ],
   "source": [
    "'my name is Ananta'.count('a')"
   ]
  },
  {
   "cell_type": "code",
   "execution_count": 64,
   "id": "326abb35-02a3-4d1a-9cbb-2a62cbfbf324",
   "metadata": {},
   "outputs": [
    {
     "data": {
      "text/plain": [
       "4"
      ]
     },
     "execution_count": 64,
     "metadata": {},
     "output_type": "execute_result"
    }
   ],
   "source": [
    "'my name is Ananta'.find('a')\n"
   ]
  },
  {
   "cell_type": "code",
   "execution_count": 65,
   "id": "c903ebf7-5610-49a6-8c00-b669c7594f71",
   "metadata": {},
   "outputs": [
    {
     "data": {
      "text/plain": [
       "11"
      ]
     },
     "execution_count": 65,
     "metadata": {},
     "output_type": "execute_result"
    }
   ],
   "source": [
    "'my name is Ananta'.find('A')"
   ]
  },
  {
   "cell_type": "code",
   "execution_count": 66,
   "id": "c851a176-0943-4fd0-8ae8-89e3698dde04",
   "metadata": {},
   "outputs": [
    {
     "data": {
      "text/plain": [
       "-1"
      ]
     },
     "execution_count": 66,
     "metadata": {},
     "output_type": "execute_result"
    }
   ],
   "source": [
    "'my name is Ananta'.find('x')"
   ]
  },
  {
   "cell_type": "code",
   "execution_count": 67,
   "id": "ddadb627-845e-4b94-b7b0-40d7b1d27915",
   "metadata": {},
   "outputs": [
    {
     "data": {
      "text/plain": [
       "11"
      ]
     },
     "execution_count": 67,
     "metadata": {},
     "output_type": "execute_result"
    }
   ],
   "source": [
    "'my name is Ananta'.index('A')"
   ]
  },
  {
   "cell_type": "code",
   "execution_count": 68,
   "id": "f46e7ca4-9c5b-41d1-b578-3fe412f29a3c",
   "metadata": {},
   "outputs": [
    {
     "data": {
      "text/plain": [
       "8"
      ]
     },
     "execution_count": 68,
     "metadata": {},
     "output_type": "execute_result"
    }
   ],
   "source": [
    "'my name is Ananta'.find('is')"
   ]
  },
  {
   "cell_type": "code",
   "execution_count": 69,
   "id": "6e498b56-39a5-4408-b2b3-a1e8fc6c7512",
   "metadata": {},
   "outputs": [
    {
     "ename": "ValueError",
     "evalue": "substring not found",
     "output_type": "error",
     "traceback": [
      "\u001b[1;31m---------------------------------------------------------------------------\u001b[0m",
      "\u001b[1;31mValueError\u001b[0m                                Traceback (most recent call last)",
      "Cell \u001b[1;32mIn[69], line 1\u001b[0m\n\u001b[1;32m----> 1\u001b[0m \u001b[38;5;124;43m'\u001b[39;49m\u001b[38;5;124;43mmy name is Ananta\u001b[39;49m\u001b[38;5;124;43m'\u001b[39;49m\u001b[38;5;241;43m.\u001b[39;49m\u001b[43mindex\u001b[49m\u001b[43m(\u001b[49m\u001b[38;5;124;43m'\u001b[39;49m\u001b[38;5;124;43mx\u001b[39;49m\u001b[38;5;124;43m'\u001b[39;49m\u001b[43m)\u001b[49m\n",
      "\u001b[1;31mValueError\u001b[0m: substring not found"
     ]
    }
   ],
   "source": [
    "'my name is Ananta'.index('x')"
   ]
  },
  {
   "cell_type": "code",
   "execution_count": 70,
   "id": "e4036f9a-c518-4262-898b-6955481fd418",
   "metadata": {},
   "outputs": [
    {
     "data": {
      "text/plain": [
       "False"
      ]
     },
     "execution_count": 70,
     "metadata": {},
     "output_type": "execute_result"
    }
   ],
   "source": [
    "'my name is Ananta'.endswith('ana')"
   ]
  },
  {
   "cell_type": "code",
   "execution_count": 71,
   "id": "d2430436-d8b7-438b-b8b3-e4674ab7e588",
   "metadata": {},
   "outputs": [
    {
     "data": {
      "text/plain": [
       "True"
      ]
     },
     "execution_count": 71,
     "metadata": {},
     "output_type": "execute_result"
    }
   ],
   "source": [
    "'my name is Ananta'.startswith('my')"
   ]
  },
  {
   "cell_type": "code",
   "execution_count": 76,
   "id": "b328379c-7c78-4f42-9660-ba15468f938b",
   "metadata": {},
   "outputs": [
    {
     "data": {
      "text/plain": [
       "' Hi my name is ananta and I am a female'"
      ]
     },
     "execution_count": 76,
     "metadata": {},
     "output_type": "execute_result"
    }
   ],
   "source": [
    "# format\n",
    "name = 'ananta'\n",
    "gender = 'female'\n",
    "' Hi my name is {} and I am a {}'.format(name,gender)"
   ]
  },
  {
   "cell_type": "code",
   "execution_count": 77,
   "id": "6f76250d-8e3a-42e3-82c8-f8d95b35102e",
   "metadata": {},
   "outputs": [
    {
     "data": {
      "text/plain": [
       "' Hi my name is ananta and I am a female'"
      ]
     },
     "execution_count": 77,
     "metadata": {},
     "output_type": "execute_result"
    }
   ],
   "source": [
    "' Hi my name is {1} and I am a {0}'.format(gender,name)"
   ]
  },
  {
   "cell_type": "code",
   "execution_count": 79,
   "id": "57f8239a-bed9-43b4-8501-2a67ad5ae9df",
   "metadata": {},
   "outputs": [
    {
     "data": {
      "text/plain": [
       "True"
      ]
     },
     "execution_count": 79,
     "metadata": {},
     "output_type": "execute_result"
    }
   ],
   "source": [
    "'ananta1234'.isalnum()"
   ]
  },
  {
   "cell_type": "code",
   "execution_count": 80,
   "id": "2633643c-d1b0-4dde-8472-eaa724b26858",
   "metadata": {},
   "outputs": [
    {
     "data": {
      "text/plain": [
       "True"
      ]
     },
     "execution_count": 80,
     "metadata": {},
     "output_type": "execute_result"
    }
   ],
   "source": [
    "'ananta'.isalpha()"
   ]
  },
  {
   "cell_type": "code",
   "execution_count": 81,
   "id": "ad5ab774-dcab-40ec-8db1-047b65bc7469",
   "metadata": {},
   "outputs": [
    {
     "data": {
      "text/plain": [
       "True"
      ]
     },
     "execution_count": 81,
     "metadata": {},
     "output_type": "execute_result"
    }
   ],
   "source": [
    "'123'.isdigit()"
   ]
  },
  {
   "cell_type": "code",
   "execution_count": 83,
   "id": "bf9fb093-368c-4a84-b1c6-3c811824c5df",
   "metadata": {},
   "outputs": [
    {
     "data": {
      "text/plain": [
       "False"
      ]
     },
     "execution_count": 83,
     "metadata": {},
     "output_type": "execute_result"
    }
   ],
   "source": [
    "'1name'.isidentifier()"
   ]
  },
  {
   "cell_type": "code",
   "execution_count": 84,
   "id": "7aafe5e2-5bdd-4dc9-96c2-358d0b7adff0",
   "metadata": {},
   "outputs": [
    {
     "data": {
      "text/plain": [
       "True"
      ]
     },
     "execution_count": 84,
     "metadata": {},
     "output_type": "execute_result"
    }
   ],
   "source": [
    "'name1'.isidentifier()"
   ]
  },
  {
   "cell_type": "code",
   "execution_count": 85,
   "id": "1b41c3c2-1dbc-4f1a-b8ce-47b9d02c2fe9",
   "metadata": {},
   "outputs": [
    {
     "data": {
      "text/plain": [
       "['hi', 'my', 'name', 'is', 'nitish']"
      ]
     },
     "execution_count": 85,
     "metadata": {},
     "output_type": "execute_result"
    }
   ],
   "source": [
    "'hi my name is nitish'.split()"
   ]
  },
  {
   "cell_type": "code",
   "execution_count": 86,
   "id": "a79af9c7-94b2-4c99-bd86-6107917f91f6",
   "metadata": {},
   "outputs": [
    {
     "data": {
      "text/plain": [
       "['h', ' my name ', 's n', 't', 'sh']"
      ]
     },
     "execution_count": 86,
     "metadata": {},
     "output_type": "execute_result"
    }
   ],
   "source": [
    "'hi my name is nitish'.split('i')"
   ]
  },
  {
   "cell_type": "code",
   "execution_count": 87,
   "id": "06d07318-5847-465c-93e3-b13e8ba39acb",
   "metadata": {},
   "outputs": [
    {
     "data": {
      "text/plain": [
       "['hi my name ', ' nit', 'h']"
      ]
     },
     "execution_count": 87,
     "metadata": {},
     "output_type": "execute_result"
    }
   ],
   "source": [
    "'hi my name is nitish'.split('is')"
   ]
  },
  {
   "cell_type": "code",
   "execution_count": 90,
   "id": "2c00b0cd-6334-44f2-aa29-9f36bec5e6dc",
   "metadata": {},
   "outputs": [
    {
     "data": {
      "text/plain": [
       "'hi myself ananta'"
      ]
     },
     "execution_count": 90,
     "metadata": {},
     "output_type": "execute_result"
    }
   ],
   "source": [
    "' '.join(['hi','myself','ananta'])"
   ]
  },
  {
   "cell_type": "code",
   "execution_count": 91,
   "id": "0bb9a116-6e8a-4214-ab78-3600e616e813",
   "metadata": {},
   "outputs": [
    {
     "data": {
      "text/plain": [
       "'hi-myself-ananta'"
      ]
     },
     "execution_count": 91,
     "metadata": {},
     "output_type": "execute_result"
    }
   ],
   "source": [
    "\"-\".join(['hi','myself','ananta'])"
   ]
  },
  {
   "cell_type": "code",
   "execution_count": 92,
   "id": "0162b519-bb70-4739-81bf-63a4f8907089",
   "metadata": {},
   "outputs": [
    {
     "data": {
      "text/plain": [
       "'hi my name is ashutosh'"
      ]
     },
     "execution_count": 92,
     "metadata": {},
     "output_type": "execute_result"
    }
   ],
   "source": [
    "'hi my name is ananta'.replace('ananta','ashutosh')"
   ]
  },
  {
   "cell_type": "code",
   "execution_count": 93,
   "id": "693c5057-edcd-49d6-b53a-ab70b93a77cb",
   "metadata": {},
   "outputs": [
    {
     "data": {
      "text/plain": [
       "'hi my name is ananta'"
      ]
     },
     "execution_count": 93,
     "metadata": {},
     "output_type": "execute_result"
    }
   ],
   "source": [
    "'hi my name is ananta'.replace('nitish','ashutosh')"
   ]
  },
  {
   "cell_type": "code",
   "execution_count": 94,
   "id": "8eeade87-3431-46aa-a860-d6b6ac0d9e01",
   "metadata": {},
   "outputs": [
    {
     "data": {
      "text/plain": [
       "'ananta'"
      ]
     },
     "execution_count": 94,
     "metadata": {},
     "output_type": "execute_result"
    }
   ],
   "source": [
    "\"ananta                   \".strip()"
   ]
  },
  {
   "cell_type": "code",
   "execution_count": null,
   "id": "f3bdde09-1242-4789-a0de-96d6087d4af4",
   "metadata": {},
   "outputs": [],
   "source": []
  }
 ],
 "metadata": {
  "kernelspec": {
   "display_name": "Python 3 (ipykernel)",
   "language": "python",
   "name": "python3"
  },
  "language_info": {
   "codemirror_mode": {
    "name": "ipython",
    "version": 3
   },
   "file_extension": ".py",
   "mimetype": "text/x-python",
   "name": "python",
   "nbconvert_exporter": "python",
   "pygments_lexer": "ipython3",
   "version": "3.12.3"
  }
 },
 "nbformat": 4,
 "nbformat_minor": 5
}
