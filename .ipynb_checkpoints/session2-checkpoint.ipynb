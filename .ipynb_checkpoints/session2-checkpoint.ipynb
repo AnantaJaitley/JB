{
 "cells": [
  {
   "cell_type": "code",
   "execution_count": 2,
   "id": "a93da2cc-1d88-4736-b68f-13cb6f058fd1",
   "metadata": {},
   "outputs": [
    {
     "name": "stdout",
     "output_type": "stream",
     "text": [
      "11\n",
      "-1\n",
      "30\n",
      "1.2\n",
      "1\n",
      "1\n",
      "25\n"
     ]
    }
   ],
   "source": [
    "#arithmetic operators\n",
    "print(5+6)\n",
    "print(5-6)\n",
    "print(5*6)\n",
    "print(6/5)\n",
    "print(6//5) # integer division,converts normal division result into integer.\n",
    "print(6%5) # gives remainder\n",
    "print(5**2) # 5 raise to the power 2"
   ]
  },
  {
   "cell_type": "code",
   "execution_count": 3,
   "id": "feeff3cc-5b9c-4d3e-8356-a3605cfb0e2c",
   "metadata": {},
   "outputs": [
    {
     "name": "stdout",
     "output_type": "stream",
     "text": [
      "False\n",
      "True\n",
      "True\n",
      "True\n",
      "True\n",
      "False\n"
     ]
    }
   ],
   "source": [
    "# relational operators\n",
    "print(4>5)\n",
    "print(4<5)\n",
    "print(4>=4)\n",
    "print(4<=4)\n",
    "print(4==4)\n",
    "print(4!=4)"
   ]
  },
  {
   "cell_type": "code",
   "execution_count": 1,
   "id": "eee6d291-a292-4d34-af48-3261c1e3b310",
   "metadata": {},
   "outputs": [
    {
     "name": "stdout",
     "output_type": "stream",
     "text": [
      "11\n",
      "-1\n",
      "30\n",
      "1.2\n",
      "1\n",
      "1\n",
      "25\n"
     ]
    }
   ],
   "source": [
    "# logical operators\n",
    "#arithmetic operators\n",
    "print(5+6)\n",
    "print(5-6)\n",
    "print(5*6)\n",
    "print(6/5)\n",
    "print(6//5) # integer division,converts normal division result into integer.\n",
    "print(6%5) # gives remainder\n",
    "print(5**2) # 5 raise to the power 2"
   ]
  },
  {
   "cell_type": "code",
   "execution_count": 2,
   "id": "b66b9c83-4e65-4893-aec5-08b010be9bea",
   "metadata": {},
   "outputs": [
    {
     "name": "stdout",
     "output_type": "stream",
     "text": [
      "False\n",
      "True\n",
      "True\n",
      "True\n",
      "True\n",
      "False\n"
     ]
    }
   ],
   "source": [
    "# relational operators\n",
    "print(4>5)\n",
    "print(4<5)\n",
    "print(4>=4)\n",
    "print(4<=4)\n",
    "print(4==4)\n",
    "print(4!=4)"
   ]
  },
  {
   "cell_type": "code",
   "execution_count": 3,
   "id": "7a2d824e-1319-41c2-88d9-3e696b91d84e",
   "metadata": {},
   "outputs": [
    {
     "name": "stdout",
     "output_type": "stream",
     "text": [
      "0\n",
      "1\n",
      "False\n"
     ]
    }
   ],
   "source": [
    "# logical operators\n",
    "print(1 and 0)\n",
    "print(1 or 0)\n",
    "print(not 1)"
   ]
  },
  {
   "cell_type": "code",
   "execution_count": 4,
   "id": "06b1b944-85b5-4534-847e-dff92d9ae93f",
   "metadata": {},
   "outputs": [
    {
     "name": "stdout",
     "output_type": "stream",
     "text": [
      "2\n",
      "3\n",
      "1\n",
      "-4\n",
      "0\n",
      "16\n"
     ]
    }
   ],
   "source": [
    "# bitwise operator\n",
    "# bitwise and \n",
    "print(2 & 3) #ans=2\n",
    "# bitwise or\n",
    "print(2 | 3) #ans=3\n",
    "# bitwise xor\n",
    "print(2 ^ 3) #ans=1\n",
    "# bitwise not\n",
    "print(~3) #ans -4\n",
    "# bitwise left operator\n",
    "print(2 >> 3) \n",
    "# bitwise right operator\n",
    "print(2 << 3) "
   ]
  },
  {
   "cell_type": "code",
   "execution_count": 6,
   "id": "2a5ff5ef-cea9-4e14-b958-dc9968ca6136",
   "metadata": {},
   "outputs": [
    {
     "name": "stdout",
     "output_type": "stream",
     "text": [
      "4\n",
      "0\n"
     ]
    }
   ],
   "source": [
    "# assignment operators\n",
    "# =\n",
    "# a = 2\n",
    "a = 2\n",
    "# a = a + 2\n",
    "a+=2\n",
    "print(a)\n",
    "# a = a % 2\n",
    "a %= 2\n",
    "print(a)"
   ]
  },
  {
   "cell_type": "code",
   "execution_count": 9,
   "id": "6337acaf-2891-48c3-84c1-1b600fa04b65",
   "metadata": {},
   "outputs": [
    {
     "name": "stdout",
     "output_type": "stream",
     "text": [
      "True\n",
      "False\n",
      "False\n"
     ]
    }
   ],
   "source": [
    "# membership Operators\n",
    "# in/not in\n",
    "print('D' in 'Delhi')\n",
    "print('D' not in 'Delhi')\n",
    "print(1 in [2,3,4,5])"
   ]
  },
  {
   "cell_type": "code",
   "execution_count": 13,
   "id": "14553eea-049d-41db-b123-492c9fc60815",
   "metadata": {},
   "outputs": [
    {
     "name": "stdin",
     "output_type": "stream",
     "text": [
      "Enter a three digit number 345\n"
     ]
    },
    {
     "name": "stdout",
     "output_type": "stream",
     "text": [
      "12\n"
     ]
    }
   ],
   "source": [
    "# find the sum of a 3 digit number entered by the user\n",
    "num = int(input('Enter a three digit number'))\n",
    "# 345%10->5\n",
    "a = num%10\n",
    "num = num//10\n",
    "# 34%10->4\n",
    "b = num%10\n",
    "num = num//10\n",
    "# 3%10->3\n",
    "c = num%10\n",
    "print(a+b+c)\n",
    "\n",
    "\n",
    "\n"
   ]
  },
  {
   "cell_type": "code",
   "execution_count": 15,
   "id": "f7787d8c-dfa0-47e1-ac6b-43d2814a08ea",
   "metadata": {},
   "outputs": [
    {
     "name": "stdin",
     "output_type": "stream",
     "text": [
      "enter email nitish.campusx@gmail.com\n",
      "enter password 1234\n"
     ]
    },
    {
     "name": "stdout",
     "output_type": "stream",
     "text": [
      "Welcome\n"
     ]
    }
   ],
   "source": [
    "# if else in python\n",
    "# login program and indentication\n",
    "# email -> nitish.campusx@gmail.com\n",
    "# password -> 1234\n",
    "\n",
    "email = input('enter email')\n",
    "password = input('enter password')\n",
    "if email == 'nitish.campusx@gmail.com' and password == '1234':\n",
    "    print('Welcome')\n",
    "else:\n",
    "    print('Not correct')\n",
    "    \n",
    "\n"
   ]
  },
  {
   "cell_type": "code",
   "execution_count": 27,
   "id": "c461b76c-00a3-44ee-81ad-8f4ae547d11a",
   "metadata": {},
   "outputs": [
    {
     "name": "stdin",
     "output_type": "stream",
     "text": [
      "Enter email:  nitish.campusx@gmail.com\n",
      "Enter password:  1235\n"
     ]
    },
    {
     "name": "stdout",
     "output_type": "stream",
     "text": [
      "Incorrect password\n"
     ]
    },
    {
     "name": "stdin",
     "output_type": "stream",
     "text": [
      "Enter password again:  1234\n"
     ]
    },
    {
     "name": "stdout",
     "output_type": "stream",
     "text": [
      "Welcome, finally!\n"
     ]
    }
   ],
   "source": [
    "# if else-if in python\n",
    "# nested if else\n",
    "# login program and indentication\n",
    "# email -> nitish.campusx@gmail.com\n",
    "# password -> 1234\n",
    "email = input('Enter email: ')\n",
    "password = input('Enter password: ')\n",
    "\n",
    "if email == 'nitish.campusx@gmail.com' and password == '1234':\n",
    "    print('Welcome')\n",
    "elif email == 'nitish.campusx@gmail.com' and password != '1234':\n",
    "    #tell user\n",
    "    print('Incorrect password')\n",
    "    password = input('Enter password again: ')\n",
    "    if password == '1234':\n",
    "        print('Welcome, finally!')\n",
    "    else:\n",
    "        print('Beta tumse na ho payega!')\n",
    "else:\n",
    "    print('Not correct')\n",
    "\n"
   ]
  },
  {
   "cell_type": "code",
   "execution_count": null,
   "id": "5870eef0-1eef-4227-abe9-d25a2438de89",
   "metadata": {},
   "outputs": [],
   "source": [
    "# if else example\n",
    "# 1.Find the min of 3 given number\n",
    "# 2.Menu driven program"
   ]
  },
  {
   "cell_type": "code",
   "execution_count": 28,
   "id": "a48de9f7-0a40-473d-a55e-12f669f593a9",
   "metadata": {},
   "outputs": [
    {
     "name": "stdin",
     "output_type": "stream",
     "text": [
      "enter first number 112\n",
      "enter second number 35\n",
      "enter third number 12\n"
     ]
    },
    {
     "name": "stdout",
     "output_type": "stream",
     "text": [
      "Smallest is 12\n"
     ]
    }
   ],
   "source": [
    "# min of 3 number\n",
    "a = int(input('enter first number'))\n",
    "b = int(input('enter second number'))\n",
    "c = int(input('enter third number'))\n",
    "if a<b and a<c:\n",
    "    print('Smallest is',a)\n",
    "elif b<c:\n",
    "    print('Smallest is',b)\n",
    "else:\n",
    "    print('Smallest is',c)\n"
   ]
  },
  {
   "cell_type": "code",
   "execution_count": 32,
   "id": "8143efb5-749a-4cd4-bd36-a83ca19aa564",
   "metadata": {},
   "outputs": [
    {
     "name": "stdin",
     "output_type": "stream",
     "text": [
      "enter first number 24\n",
      "enter second number 56\n",
      "Enter the operation =\n"
     ]
    },
    {
     "name": "stdout",
     "output_type": "stream",
     "text": [
      "invalid choice\n"
     ]
    }
   ],
   "source": [
    "# menu driven calculator\n",
    "fnum = int(input('enter first number'))\n",
    "snum = int(input('enter second number'))\n",
    "op = input('Enter the operation')\n",
    "if op == '+':\n",
    "    print(fnum + snum)\n",
    "elif op == '-':\n",
    "    print(fnum - snum)\n",
    "elif op == '*':\n",
    "    print(fnum * snum)\n",
    "elif op == '/':\n",
    "    print(fnum / snum)\n",
    "else:\n",
    "    print('invalid choice')\n",
    "    \n",
    "\n",
    "\n"
   ]
  },
  {
   "cell_type": "code",
   "execution_count": 35,
   "id": "b866039a-1ed3-4b8a-bc1d-9e37ab43384f",
   "metadata": {},
   "outputs": [
    {
     "data": {
      "text/plain": [
       "120"
      ]
     },
     "execution_count": 35,
     "metadata": {},
     "output_type": "execute_result"
    }
   ],
   "source": [
    "# modules\n",
    "# math\n",
    "import math\n",
    "math.factorial(5)\n"
   ]
  },
  {
   "cell_type": "code",
   "execution_count": 36,
   "id": "7fa915e4-d11e-42a5-9b91-21dd35228f18",
   "metadata": {},
   "outputs": [
    {
     "name": "stdout",
     "output_type": "stream",
     "text": [
      "['False', 'None', 'True', 'and', 'as', 'assert', 'async', 'await', 'break', 'class', 'continue', 'def', 'del', 'elif', 'else', 'except', 'finally', 'for', 'from', 'global', 'if', 'import', 'in', 'is', 'lambda', 'nonlocal', 'not', 'or', 'pass', 'raise', 'return', 'try', 'while', 'with', 'yield']\n"
     ]
    }
   ],
   "source": [
    "# keywords\n",
    "import keyword\n",
    "print(keyword.kwlist)"
   ]
  },
  {
   "cell_type": "code",
   "execution_count": 37,
   "id": "72e89ee1-e9b0-4f57-a1f7-4c39f691243e",
   "metadata": {},
   "outputs": [
    {
     "name": "stdout",
     "output_type": "stream",
     "text": [
      "81\n"
     ]
    }
   ],
   "source": [
    "# random\n",
    "import random\n",
    "print(random.randint(1,100))"
   ]
  },
  {
   "cell_type": "code",
   "execution_count": 38,
   "id": "21565c1a-4ece-458d-b720-9750ffbf84b8",
   "metadata": {},
   "outputs": [
    {
     "name": "stdout",
     "output_type": "stream",
     "text": [
      "2024-05-06 01:42:06.722732\n"
     ]
    }
   ],
   "source": [
    "# datetime\n",
    "import datetime\n",
    "print(datetime.datetime.now())"
   ]
  },
  {
   "cell_type": "code",
   "execution_count": 39,
   "id": "4a4aaada-746c-48bb-b947-b32a5d52d0fe",
   "metadata": {},
   "outputs": [
    {
     "name": "stdout",
     "output_type": "stream",
     "text": [
      "\n",
      "Please wait a moment while I gather a list of all available modules...\n",
      "\n",
      "test_sqlite3: testing with SQLite version 3.45.1\n",
      "IPython             bdb                 lzma                statistics\n",
      "__future__          binascii            mailbox             string\n",
      "__hello__           bisect              mailcap             stringprep\n",
      "__phello__          bleach              markupsafe          struct\n",
      "_abc                bs4                 marshal             subprocess\n",
      "_aix_support        builtins            math                sunau\n",
      "_argon2_cffi_bindings bz2                 matplotlib_inline   symtable\n",
      "_ast                cProfile            mimetypes           sys\n",
      "_asyncio            calendar            mistune             sysconfig\n",
      "_bisect             certifi             mmap                tabnanny\n",
      "_blake2             cffi                mmapfile            tarfile\n",
      "_bz2                cgi                 mmsystem            telnetlib\n",
      "_cffi_backend       cgitb               modulefinder        tempfile\n",
      "_codecs             charset_normalizer  msilib              terminado\n",
      "_codecs_cn          chunk               msvcrt              test\n",
      "_codecs_hk          cmath               multiprocessing     textwrap\n",
      "_codecs_iso2022     cmd                 nbclient            this\n",
      "_codecs_jp          code                nbconvert           threading\n",
      "_codecs_kr          codecs              nbformat            time\n",
      "_codecs_tw          codeop              nest_asyncio        timeit\n",
      "_collections        collections         netbios             timer\n",
      "_collections_abc    colorama            netrc               tinycss2\n",
      "_compat_pickle      colorsys            nntplib             tkinter\n",
      "_compression        comm                notebook            token\n",
      "_contextvars        commctrl            notebook_shim       tokenize\n",
      "_csv                compileall          nt                  tomllib\n",
      "_ctypes             concurrent          ntpath              tornado\n",
      "_ctypes_test        configparser        ntsecuritycon       trace\n",
      "_datetime           contextlib          nturl2path          traceback\n",
      "_decimal            contextvars         numbers             tracemalloc\n",
      "_elementtree        copy                odbc                traitlets\n",
      "_functools          copyreg             opcode              tty\n",
      "_hashlib            crypt               operator            turtle\n",
      "_heapq              csv                 optparse            turtledemo\n",
      "_imp                ctypes              os                  types\n",
      "_io                 curses              overrides           typing\n",
      "_json               dataclasses         packaging           unicodedata\n",
      "_locale             datetime            pandocfilters       unittest\n",
      "_lsprof             dateutil            parso               uri_template\n",
      "_lzma               dbi                 pathlib             urllib\n",
      "_markupbase         dbm                 pdb                 urllib3\n",
      "_md5                dde                 perfmon             uu\n",
      "_msi                debugpy             pickle              uuid\n",
      "_multibytecodec     decimal             pickletools         venv\n",
      "_multiprocessing    decorator           pip                 warnings\n",
      "_opcode             defusedxml          pipes               wave\n",
      "_operator           difflib             pkgutil             wcwidth\n",
      "_osx_support        dis                 platform            weakref\n",
      "_overlapped         doctest             platformdirs        webbrowser\n",
      "_pickle             email               plistlib            webcolors\n",
      "_py_abc             encodings           poplib              webencodings\n",
      "_pydatetime         ensurepip           posixpath           websocket\n",
      "_pydecimal          enum                pprint              widgetsnbextension\n",
      "_pyio               errno               profile             win2kras\n",
      "_pylong             executing           prometheus_client   win32api\n",
      "_queue              fastjsonschema      prompt_toolkit      win32clipboard\n",
      "_random             faulthandler        pstats              win32com\n",
      "_sha1               filecmp             psutil              win32con\n",
      "_sha2               fileinput           pty                 win32console\n",
      "_sha3               fnmatch             pure_eval           win32cred\n",
      "_signal             fqdn                py_compile          win32crypt\n",
      "_sitebuiltins       fractions           pyclbr              win32cryptcon\n",
      "_socket             ftplib              pycparser           win32event\n",
      "_sqlite3            functools           pydoc               win32evtlog\n",
      "_sre                gc                  pydoc_data          win32evtlogutil\n",
      "_ssl                genericpath         pyexpat             win32file\n",
      "_stat               getopt              pygments            win32gui\n",
      "_statistics         getpass             pythoncom           win32gui_struct\n",
      "_string             gettext             pythonjsonlogger    win32help\n",
      "_strptime           glob                pywin               win32inet\n",
      "_struct             graphlib            pywin32_bootstrap   win32inetcon\n",
      "_symtable           gzip                pywin32_testutil    win32job\n",
      "_testbuffer         h11                 pywintypes          win32lz\n",
      "_testcapi           hashlib             qtconsole           win32net\n",
      "_testclinic         heapq               qtpy                win32netcon\n",
      "_testconsole        hmac                queue               win32pdh\n",
      "_testimportmultiple html                quopri              win32pdhquery\n",
      "_testinternalcapi   http                random              win32pdhutil\n",
      "_testmultiphase     httpcore            rasutil             win32pipe\n",
      "_testsinglephase    httpx               re                  win32print\n",
      "_thread             idlelib             referencing         win32process\n",
      "_threading_local    idna                regcheck            win32profile\n",
      "_tkinter            imaplib             regutil             win32ras\n",
      "_tokenize           imghdr              reprlib             win32rcparser\n",
      "_tracemalloc        importlib           requests            win32security\n",
      "_typing             inspect             rfc3339_validator   win32service\n",
      "_uuid               io                  rfc3986_validator   win32serviceutil\n",
      "_warnings           ipaddress           rlcompleter         win32timezone\n",
      "_weakref            ipykernel           rpds                win32trace\n",
      "_weakrefset         ipykernel_launcher  runpy               win32traceutil\n",
      "_win32sysloader     ipywidgets          sched               win32transaction\n",
      "_winapi             isapi               secrets             win32ts\n",
      "_winxptheme         isoduration         select              win32ui\n",
      "_wmi                itertools           selectors           win32uiole\n",
      "_xxinterpchannels   jedi                send2trash          win32verstamp\n",
      "_xxsubinterpreters  jinja2              servicemanager      win32wnet\n",
      "_yaml               json                shelve              winerror\n",
      "_zoneinfo           json5               shlex               winioctlcon\n",
      "abc                 jsonpointer         shutil              winnt\n",
      "adodbapi            jsonschema          signal              winperf\n",
      "afxres              jsonschema_specifications site                winpty\n",
      "aifc                jupyter             six                 winreg\n",
      "antigravity         jupyter_client      smtplib             winsound\n",
      "anyio               jupyter_console     sndhdr              winxpgui\n",
      "argon2              jupyter_core        sniffio             winxptheme\n",
      "argparse            jupyter_events      socket              wsgiref\n",
      "array               jupyter_lsp         socketserver        xdrlib\n",
      "arrow               jupyter_server      soupsieve           xml\n",
      "ast                 jupyter_server_terminals sqlite3             xmlrpc\n",
      "asttokens           jupyterlab          sre_compile         xxsubtype\n",
      "async_lru           jupyterlab_pygments sre_constants       yaml\n",
      "asyncio             jupyterlab_server   sre_parse           zipapp\n",
      "atexit              jupyterlab_widgets  ssl                 zipfile\n",
      "attr                keyword             sspi                zipimport\n",
      "attrs               lib2to3             sspicon             zlib\n",
      "audioop             linecache           stack_data          zmq\n",
      "babel               locale              start_pythonwin     zoneinfo\n",
      "base64              logging             stat                \n",
      "\n",
      "Enter any module name to get more help.  Or, type \"modules spam\" to search\n",
      "for modules whose name or summary contain the string \"spam\".\n",
      "\n"
     ]
    }
   ],
   "source": [
    "help('modules')"
   ]
  },
  {
   "cell_type": "code",
   "execution_count": 42,
   "id": "5245512f-f5f0-4792-9cb9-ac14ea8d1b5a",
   "metadata": {},
   "outputs": [
    {
     "ename": "AttributeError",
     "evalue": "module 'random' has no attribute 'randfloat'",
     "output_type": "error",
     "traceback": [
      "\u001b[1;31m---------------------------------------------------------------------------\u001b[0m",
      "\u001b[1;31mAttributeError\u001b[0m                            Traceback (most recent call last)",
      "Cell \u001b[1;32mIn[42], line 3\u001b[0m\n\u001b[0;32m      1\u001b[0m \u001b[38;5;66;03m# random\u001b[39;00m\n\u001b[0;32m      2\u001b[0m \u001b[38;5;28;01mimport\u001b[39;00m \u001b[38;5;21;01mrandom\u001b[39;00m\n\u001b[1;32m----> 3\u001b[0m \u001b[38;5;28mprint\u001b[39m(\u001b[43mrandom\u001b[49m\u001b[38;5;241;43m.\u001b[39;49m\u001b[43mrandfloat\u001b[49m(\u001b[38;5;241m1.0\u001b[39m,\u001b[38;5;241m100.0\u001b[39m))\n",
      "\u001b[1;31mAttributeError\u001b[0m: module 'random' has no attribute 'randfloat'"
     ]
    }
   ],
   "source": [
    "# random\n",
    "import random\n",
    "print(random.randfloat(1.0,100.0))"
   ]
  },
  {
   "cell_type": "code",
   "execution_count": 2,
   "id": "b9d42cfa-e6c5-417c-b3c7-d11fbb46a899",
   "metadata": {},
   "outputs": [
    {
     "name": "stdin",
     "output_type": "stream",
     "text": [
      "enter the number 12\n"
     ]
    },
    {
     "name": "stdout",
     "output_type": "stream",
     "text": [
      "12 * 1 = 12\n",
      "12 * 2 = 24\n",
      "12 * 3 = 36\n",
      "12 * 4 = 48\n",
      "12 * 5 = 60\n",
      "12 * 6 = 72\n",
      "12 * 7 = 84\n",
      "12 * 8 = 96\n",
      "12 * 9 = 108\n",
      "12 * 10 = 120\n"
     ]
    }
   ],
   "source": [
    "# loop\n",
    "# while loop example-> program to print a table\n",
    "num = int(input('enter the number'))\n",
    "i=1 # for iteration\n",
    "while i<11:\n",
    "    print(num,'*',i,'=',num*i)\n",
    "    i+=1\n",
    "    \n",
    "\n"
   ]
  },
  {
   "cell_type": "code",
   "execution_count": 4,
   "id": "e93e9463-92c1-4999-9d6e-61b04263d5d9",
   "metadata": {},
   "outputs": [
    {
     "name": "stdout",
     "output_type": "stream",
     "text": [
      "1\n",
      "2\n",
      "limit crossed\n"
     ]
    }
   ],
   "source": [
    "# while loop with else\n",
    "x=1\n",
    "while x<3:\n",
    "    print(x)\n",
    "    x+=1\n",
    "else:\n",
    "    print('limit crossed')"
   ]
  },
  {
   "cell_type": "code",
   "execution_count": 7,
   "id": "46b7dfc7-ecce-4a94-8dfe-80a2146356d9",
   "metadata": {},
   "outputs": [
    {
     "name": "stdin",
     "output_type": "stream",
     "text": [
      "guess karo 8\n"
     ]
    },
    {
     "name": "stdout",
     "output_type": "stream",
     "text": [
      "wrong!guess higher\n"
     ]
    },
    {
     "name": "stdin",
     "output_type": "stream",
     "text": [
      "guess karo 39\n"
     ]
    },
    {
     "name": "stdout",
     "output_type": "stream",
     "text": [
      "wrong!guess higher\n"
     ]
    },
    {
     "name": "stdin",
     "output_type": "stream",
     "text": [
      "guess karo 90\n"
     ]
    },
    {
     "name": "stdout",
     "output_type": "stream",
     "text": [
      "wrong!guess lower\n"
     ]
    },
    {
     "name": "stdin",
     "output_type": "stream",
     "text": [
      "guess karo 80\n"
     ]
    },
    {
     "name": "stdout",
     "output_type": "stream",
     "text": [
      "wrong!guess lower\n"
     ]
    },
    {
     "name": "stdin",
     "output_type": "stream",
     "text": [
      "guess karo 50\n"
     ]
    },
    {
     "name": "stdout",
     "output_type": "stream",
     "text": [
      "wrong!guess lower\n"
     ]
    },
    {
     "name": "stdin",
     "output_type": "stream",
     "text": [
      "guess karo 40\n"
     ]
    },
    {
     "name": "stdout",
     "output_type": "stream",
     "text": [
      "wrong!guess higher\n"
     ]
    },
    {
     "name": "stdin",
     "output_type": "stream",
     "text": [
      "guess karo 45\n"
     ]
    },
    {
     "name": "stdout",
     "output_type": "stream",
     "text": [
      "wrong!guess higher\n"
     ]
    },
    {
     "name": "stdin",
     "output_type": "stream",
     "text": [
      "guess karo 46\n"
     ]
    },
    {
     "name": "stdout",
     "output_type": "stream",
     "text": [
      "wrong!guess higher\n"
     ]
    },
    {
     "name": "stdin",
     "output_type": "stream",
     "text": [
      "guess karo 48\n"
     ]
    },
    {
     "name": "stdout",
     "output_type": "stream",
     "text": [
      "wrong!guess lower\n"
     ]
    },
    {
     "name": "stdin",
     "output_type": "stream",
     "text": [
      "guess karo 47\n"
     ]
    },
    {
     "name": "stdout",
     "output_type": "stream",
     "text": [
      "correct guess\n",
      "attempts 10\n"
     ]
    }
   ],
   "source": [
    "# Guessing game\n",
    "# generate a random integer between 1 and 100\n",
    "import random\n",
    "jackpot = random.randint(1,100)\n",
    "guess = int(input('guess karo')) \n",
    "counter=1\n",
    "while guess != jackpot:\n",
    "    \n",
    "    if guess < jackpot:\n",
    "          print('wrong!guess higher')\n",
    "    else:\n",
    "         print('wrong!guess lower')\n",
    "        \n",
    "    guess = int(input('guess karo'))\n",
    "    counter+=1\n",
    "else:\n",
    "    print('correct guess')\n",
    "    print('attempts',counter)\n"
   ]
  },
  {
   "cell_type": "code",
   "execution_count": 8,
   "id": "f671c542-32dd-4c3f-aac7-d34e3bfee617",
   "metadata": {},
   "outputs": [
    {
     "name": "stdout",
     "output_type": "stream",
     "text": [
      "1\n",
      "2\n",
      "3\n",
      "4\n",
      "5\n",
      "6\n",
      "7\n",
      "8\n",
      "9\n",
      "10\n"
     ]
    }
   ],
   "source": [
    "# for loop\n",
    "for i in range(1,11): # In range 1st no. is incl 2nd no. is excl\n",
    "    print(i)\n",
    "    \n"
   ]
  },
  {
   "cell_type": "code",
   "execution_count": 9,
   "id": "ef8719f4-488f-497d-9479-d31620f47eb6",
   "metadata": {},
   "outputs": [
    {
     "name": "stdout",
     "output_type": "stream",
     "text": [
      "1\n",
      "5\n",
      "9\n"
     ]
    }
   ],
   "source": [
    "for i in range(1,11,4): # the 3rd parameter is the step size\n",
    "    print(i)"
   ]
  },
  {
   "cell_type": "code",
   "execution_count": 10,
   "id": "2a83a0e3-d646-4efa-b55a-13dfd075cb68",
   "metadata": {},
   "outputs": [
    {
     "name": "stdout",
     "output_type": "stream",
     "text": [
      "10\n",
      "9\n",
      "8\n",
      "7\n",
      "6\n",
      "5\n",
      "4\n",
      "3\n",
      "2\n",
      "1\n"
     ]
    }
   ],
   "source": [
    "for i in range(10,0,-1): # for reversing\n",
    "    print(i)\n"
   ]
  },
  {
   "cell_type": "code",
   "execution_count": 11,
   "id": "2f045c17-dc5c-4f11-86b5-ee5e0a3390fa",
   "metadata": {},
   "outputs": [
    {
     "name": "stdout",
     "output_type": "stream",
     "text": [
      "D\n",
      "e\n",
      "l\n",
      "h\n",
      "i\n"
     ]
    }
   ],
   "source": [
    "for i in 'Delhi':\n",
    "    print(i)\n"
   ]
  },
  {
   "cell_type": "code",
   "execution_count": 13,
   "id": "dd6b7039-547d-4604-88fc-66c79efbd17c",
   "metadata": {},
   "outputs": [
    {
     "name": "stdout",
     "output_type": "stream",
     "text": [
      "1\n",
      "2\n",
      "3\n",
      "4\n",
      "5\n"
     ]
    }
   ],
   "source": [
    "for i in [1,2,3,4,5]: # also works for set,tuple etc\n",
    "    print(i)"
   ]
  },
  {
   "cell_type": "code",
   "execution_count": 14,
   "id": "7b10131c-120a-4b49-92a9-118d55e53d77",
   "metadata": {},
   "outputs": [
    {
     "name": "stdout",
     "output_type": "stream",
     "text": [
      "10 10000\n",
      "9 9000.0\n",
      "8 8100.0\n",
      "7 7290.0\n",
      "6 6561.0\n",
      "5 5904.9\n",
      "4 5314.41\n",
      "3 4782.969\n",
      "2 4304.6721\n",
      "1 3874.20489\n"
     ]
    }
   ],
   "source": [
    "# program - the current population of the town is 1000,inc 10% per yr\n",
    "#population at the end of ech of the last 10 years\n",
    "current_pop = 10000\n",
    "for i in range(10,0,-1):\n",
    "    print(i,current_pop)\n",
    "    current_pop = current_pop - 0.1*current_pop\n"
   ]
  },
  {
   "cell_type": "code",
   "execution_count": null,
   "id": "ea22bad4-381f-47fa-bf3d-003baa2ff5e1",
   "metadata": {},
   "outputs": [],
   "source": []
  }
 ],
 "metadata": {
  "kernelspec": {
   "display_name": "Python 3 (ipykernel)",
   "language": "python",
   "name": "python3"
  },
  "language_info": {
   "codemirror_mode": {
    "name": "ipython",
    "version": 3
   },
   "file_extension": ".py",
   "mimetype": "text/x-python",
   "name": "python",
   "nbconvert_exporter": "python",
   "pygments_lexer": "ipython3",
   "version": "3.12.3"
  }
 },
 "nbformat": 4,
 "nbformat_minor": 5
}
