{
 "cells": [
  {
   "cell_type": "code",
   "execution_count": 9,
   "id": "e495bcc4-7f71-470a-bb05-7af98f88c865",
   "metadata": {},
   "outputs": [
    {
     "name": "stdout",
     "output_type": "stream",
     "text": [
      "()\n",
      "2\n",
      "<class 'int'>\n",
      "('2',)\n",
      "<class 'tuple'>\n",
      "(1, 2, 3, 4)\n",
      "(1, 2, 5, True, [1, 2, 3])\n",
      "(1, 2, 3, (4, 5))\n",
      "('h', 'e', 'l', 'l', 'o')\n"
     ]
    }
   ],
   "source": [
    "# creating tuples\n",
    "# empty\n",
    "t1 = ()\n",
    "print(t1)\n",
    "# create a tuple with single item\n",
    "t2 = (2) # wrong way\n",
    "print(t2)\n",
    "print(type(t2))\n",
    "t3 = ('2',)\n",
    "print(t3)\n",
    "print(type(t3))\n",
    "# homo\n",
    "t4 = (1,2,3,4)\n",
    "print(t4)\n",
    "# hetro\n",
    "t5 = (1,2,5,True,[1,2,3])\n",
    "print(t5)\n",
    "# 2D , tuple within a tuple\n",
    "t6 = (1,2,3,(4,5))\n",
    "print(t6)\n",
    "# using type convertion\n",
    "t7 = tuple('hello')\n",
    "print(t7)"
   ]
  },
  {
   "cell_type": "code",
   "execution_count": 14,
   "id": "45547ea9-af91-467c-b935-cdfd5c4567d7",
   "metadata": {},
   "outputs": [
    {
     "name": "stdout",
     "output_type": "stream",
     "text": [
      "(1, 2, 3, 4)\n",
      "1\n",
      "4\n",
      "(1, 2, 3, 4)\n",
      "(1, 3)\n",
      "(3, 4)\n",
      "(4, 3, 2, 1)\n"
     ]
    }
   ],
   "source": [
    "# indexing\n",
    "print(t4)\n",
    "print(t4[0])\n",
    "print(t4[-1])\n",
    "# slicing\n",
    "print(t4[0:4])\n",
    "print(t4[0:4:2])\n",
    "print(t4[2:4])\n",
    "print(t4[::-1])\n"
   ]
  },
  {
   "cell_type": "code",
   "execution_count": 15,
   "id": "c4a4c08b-34c6-4d80-b824-ae34295eb981",
   "metadata": {},
   "outputs": [
    {
     "name": "stdout",
     "output_type": "stream",
     "text": [
      "(1, 2, 3, 4)\n"
     ]
    },
    {
     "ename": "TypeError",
     "evalue": "'tuple' object does not support item assignment",
     "output_type": "error",
     "traceback": [
      "\u001b[1;31m---------------------------------------------------------------------------\u001b[0m",
      "\u001b[1;31mTypeError\u001b[0m                                 Traceback (most recent call last)",
      "Cell \u001b[1;32mIn[15], line 2\u001b[0m\n\u001b[0;32m      1\u001b[0m \u001b[38;5;28mprint\u001b[39m(t4)\n\u001b[1;32m----> 2\u001b[0m \u001b[43mt4\u001b[49m\u001b[43m[\u001b[49m\u001b[38;5;241;43m0\u001b[39;49m\u001b[43m]\u001b[49m \u001b[38;5;241m=\u001b[39m \u001b[38;5;241m100\u001b[39m\n",
      "\u001b[1;31mTypeError\u001b[0m: 'tuple' object does not support item assignment"
     ]
    }
   ],
   "source": [
    "print(t4)\n",
    "t4[0] = 100\n",
    "# immutable,just like strings"
   ]
  },
  {
   "cell_type": "code",
   "execution_count": 16,
   "id": "b07de2a8-784b-4b5c-9f27-f9498fa78c05",
   "metadata": {},
   "outputs": [
    {
     "name": "stdout",
     "output_type": "stream",
     "text": [
      "(1, 2, 3, 4)\n"
     ]
    }
   ],
   "source": [
    "# adding not possible\n",
    "print(t4)"
   ]
  },
  {
   "cell_type": "code",
   "execution_count": 17,
   "id": "cdf03fbd-0a90-46b5-8ebc-215a3ffe2b29",
   "metadata": {},
   "outputs": [
    {
     "name": "stdout",
     "output_type": "stream",
     "text": [
      "(1, 2, 3, 4)\n"
     ]
    },
    {
     "ename": "NameError",
     "evalue": "name 't3' is not defined",
     "output_type": "error",
     "traceback": [
      "\u001b[1;31m---------------------------------------------------------------------------\u001b[0m",
      "\u001b[1;31mNameError\u001b[0m                                 Traceback (most recent call last)",
      "Cell \u001b[1;32mIn[17], line 4\u001b[0m\n\u001b[0;32m      2\u001b[0m \u001b[38;5;28mprint\u001b[39m(t4)\n\u001b[0;32m      3\u001b[0m \u001b[38;5;28;01mdel\u001b[39;00m (t3)\n\u001b[1;32m----> 4\u001b[0m \u001b[38;5;28mprint\u001b[39m(\u001b[43mt3\u001b[49m)\n",
      "\u001b[1;31mNameError\u001b[0m: name 't3' is not defined"
     ]
    }
   ],
   "source": [
    "# delete\n",
    "print(t4)\n",
    "del (t3)\n",
    "print(t3)\n"
   ]
  },
  {
   "cell_type": "code",
   "execution_count": 19,
   "id": "8bc8ebd4-9a0a-40b4-94f2-8d2919e1e011",
   "metadata": {},
   "outputs": [
    {
     "name": "stdout",
     "output_type": "stream",
     "text": [
      "(1, 2, 5, True, [1, 2, 3])\n"
     ]
    },
    {
     "ename": "TypeError",
     "evalue": "'tuple' object doesn't support item deletion",
     "output_type": "error",
     "traceback": [
      "\u001b[1;31m---------------------------------------------------------------------------\u001b[0m",
      "\u001b[1;31mTypeError\u001b[0m                                 Traceback (most recent call last)",
      "Cell \u001b[1;32mIn[19], line 2\u001b[0m\n\u001b[0;32m      1\u001b[0m \u001b[38;5;28mprint\u001b[39m(t5)\n\u001b[1;32m----> 2\u001b[0m \u001b[38;5;28;01mdel\u001b[39;00m \u001b[43mt5\u001b[49m\u001b[43m[\u001b[49m\u001b[38;5;241;43m-\u001b[39;49m\u001b[38;5;241;43m1\u001b[39;49m\u001b[43m]\u001b[49m\n\u001b[0;32m      3\u001b[0m \u001b[38;5;28mprint\u001b[39m(t5)\n",
      "\u001b[1;31mTypeError\u001b[0m: 'tuple' object doesn't support item deletion"
     ]
    }
   ],
   "source": [
    "print(t5)\n",
    "del t5[-1]\n",
    "print(t5)"
   ]
  },
  {
   "cell_type": "code",
   "execution_count": 24,
   "id": "76bfcb5d-04e8-4798-a0f1-df59f81132de",
   "metadata": {},
   "outputs": [
    {
     "name": "stdout",
     "output_type": "stream",
     "text": [
      "(1, 2, 3, 4, 5, 6, 7, 8)\n",
      "(1, 2, 3, 4, 1, 2, 3, 4, 1, 2, 3, 4)\n",
      "True\n",
      "False\n",
      "1\n",
      "2\n",
      "3\n",
      "4\n"
     ]
    }
   ],
   "source": [
    "# + and *\n",
    "t1 = (1,2,3,4)\n",
    "t2 = (5,6,7,8)\n",
    "print(t1+t2)\n",
    "print(t1*3)\n",
    "# membership\n",
    "print(1 in t1)\n",
    "print(1 not in t1)\n",
    "5 not in t2\n",
    "for i in t1:\n",
    "    print(i)"
   ]
  },
  {
   "cell_type": "code",
   "execution_count": 26,
   "id": "4205bf1e-bba0-496f-9afe-f6039952336c",
   "metadata": {},
   "outputs": [
    {
     "name": "stdout",
     "output_type": "stream",
     "text": [
      "4\n",
      "10\n",
      "1\n",
      "4\n",
      "[1, 2, 3, 4]\n",
      "[4, 3, 2, 1]\n"
     ]
    }
   ],
   "source": [
    "# len/sum/min/max/sorted\n",
    "t = (1,2,3,4)\n",
    "print(len(t))\n",
    "print(sum(t))\n",
    "print(min(t))\n",
    "print(max(t))\n",
    "print(sorted(t))\n",
    "print(sorted(t,reverse=True))\n",
    "\n",
    "\n"
   ]
  },
  {
   "cell_type": "code",
   "execution_count": 28,
   "id": "0f9751b2-3a96-435b-9725-4f5a97d1f2fd",
   "metadata": {},
   "outputs": [
    {
     "data": {
      "text/plain": [
       "1"
      ]
     },
     "execution_count": 28,
     "metadata": {},
     "output_type": "execute_result"
    }
   ],
   "source": [
    "# count\n",
    "t = (1,2,3,4,5)\n",
    "t.count(5)"
   ]
  },
  {
   "cell_type": "code",
   "execution_count": 29,
   "id": "825acb87-888b-44b7-98d9-2a7224dab6f0",
   "metadata": {},
   "outputs": [
    {
     "data": {
      "text/plain": [
       "4"
      ]
     },
     "execution_count": 29,
     "metadata": {},
     "output_type": "execute_result"
    }
   ],
   "source": [
    "#index\n",
    "t.index(5)"
   ]
  },
  {
   "cell_type": "code",
   "execution_count": 31,
   "id": "ee34a97d-1f44-4196-afcd-46ade6f33fa3",
   "metadata": {},
   "outputs": [
    {
     "name": "stdout",
     "output_type": "stream",
     "text": [
      "(1, 2, 3, 4)\n",
      "(1, 2, 3)\n"
     ]
    }
   ],
   "source": [
    "# not error prone, as immutable\n",
    "a = (1,2,3)\n",
    "b = a\n",
    "a = a + (4,)\n",
    "print(a)\n",
    "print(b)"
   ]
  },
  {
   "cell_type": "code",
   "execution_count": 32,
   "id": "e5cdeed3-c65c-4a3c-8ab3-c23ef8e8eecc",
   "metadata": {},
   "outputs": [
    {
     "name": "stdout",
     "output_type": "stream",
     "text": [
      "1 2 3\n"
     ]
    }
   ],
   "source": [
    "# tuple unpacking\n",
    "a,b,c = (1,2,3)\n",
    "print(a,b,c)"
   ]
  },
  {
   "cell_type": "code",
   "execution_count": 33,
   "id": "0b255299-39f1-4db2-9c65-b41c95e42dce",
   "metadata": {},
   "outputs": [
    {
     "ename": "ValueError",
     "evalue": "too many values to unpack (expected 2)",
     "output_type": "error",
     "traceback": [
      "\u001b[1;31m---------------------------------------------------------------------------\u001b[0m",
      "\u001b[1;31mValueError\u001b[0m                                Traceback (most recent call last)",
      "Cell \u001b[1;32mIn[33], line 1\u001b[0m\n\u001b[1;32m----> 1\u001b[0m a,b \u001b[38;5;241m=\u001b[39m (\u001b[38;5;241m1\u001b[39m,\u001b[38;5;241m2\u001b[39m,\u001b[38;5;241m3\u001b[39m)\n\u001b[0;32m      2\u001b[0m \u001b[38;5;28mprint\u001b[39m(a,b)\n",
      "\u001b[1;31mValueError\u001b[0m: too many values to unpack (expected 2)"
     ]
    }
   ],
   "source": [
    "a,b = (1,2,3)\n",
    "print(a,b)"
   ]
  },
  {
   "cell_type": "code",
   "execution_count": 34,
   "id": "2f82b5dd-fade-4136-88ef-b1d892d23b2b",
   "metadata": {},
   "outputs": [
    {
     "name": "stdout",
     "output_type": "stream",
     "text": [
      "2 1\n"
     ]
    }
   ],
   "source": [
    "# swapping\n",
    "a = 1\n",
    "b = 2\n",
    "a,b = b,a\n",
    "print(a,b)"
   ]
  },
  {
   "cell_type": "code",
   "execution_count": 35,
   "id": "84f30d96-f243-451c-bcb9-c53c02274854",
   "metadata": {},
   "outputs": [
    {
     "name": "stdout",
     "output_type": "stream",
     "text": [
      "1 2\n",
      "[3, 4]\n"
     ]
    }
   ],
   "source": [
    "a,b,*others = (1,2,3,4)\n",
    "print(a,b)\n",
    "print(others)"
   ]
  },
  {
   "cell_type": "code",
   "execution_count": 37,
   "id": "0f596f99-0ecd-48f5-8b76-62b261bba2bf",
   "metadata": {},
   "outputs": [
    {
     "name": "stdout",
     "output_type": "stream",
     "text": [
      "((1, 5), (2, 6), (3, 7), (4, 8))\n"
     ]
    }
   ],
   "source": [
    "# zipping tuples\n",
    "a = (1,2,3,4)\n",
    "b = (5,6,7,8)\n",
    "zip(a,b)\n",
    "print(tuple(zip(a,b)))"
   ]
  },
  {
   "cell_type": "code",
   "execution_count": 45,
   "id": "e0f137ca-c173-40a9-b6ff-4fe5dd8b06bd",
   "metadata": {},
   "outputs": [
    {
     "name": "stdout",
     "output_type": "stream",
     "text": [
      "{}\n",
      "<class 'dict'>\n",
      "set()\n",
      "<class 'set'>\n",
      "{1, 2, 3}\n",
      "{1, 'hello', 4, 5}\n",
      "{1, 'hello', 4.5, (1, 2, 3)}\n"
     ]
    }
   ],
   "source": [
    "# creating set\n",
    "# empty\n",
    "s = {} # wrong way\n",
    "print(s)\n",
    "print(type(s))\n",
    "s_ = set()\n",
    "print(s_)\n",
    "print(type(s_))\n",
    "# 1D and 2D\n",
    "s1 = {1,2,3}\n",
    "print(s1)\n",
    "#s2 = {1,2,3,{4,5}}\n",
    "#print(s2)\n",
    "# homo and hetro\n",
    "s3 = {1,'hello',4,5,True} # True is treated as 1\n",
    "print(s3)\n",
    "s_3 = {1,'hello',4.5,(1,2,3)} \n",
    "#printing order of items sets is decided by hashing\n",
    "print(s_3)\n"
   ]
  },
  {
   "cell_type": "code",
   "execution_count": 46,
   "id": "7f504bc3-c504-4a0e-a411-3dfa9b77f8f1",
   "metadata": {},
   "outputs": [
    {
     "ename": "TypeError",
     "evalue": "unhashable type: 'list'",
     "output_type": "error",
     "traceback": [
      "\u001b[1;31m---------------------------------------------------------------------------\u001b[0m",
      "\u001b[1;31mTypeError\u001b[0m                                 Traceback (most recent call last)",
      "Cell \u001b[1;32mIn[46], line 1\u001b[0m\n\u001b[1;32m----> 1\u001b[0m s \u001b[38;5;241m=\u001b[39m {\u001b[38;5;241m1\u001b[39m,\u001b[38;5;124m'\u001b[39m\u001b[38;5;124mhello\u001b[39m\u001b[38;5;124m'\u001b[39m,\u001b[38;5;241m4.5\u001b[39m,[\u001b[38;5;241m1\u001b[39m,\u001b[38;5;241m2\u001b[39m,\u001b[38;5;241m3\u001b[39m]} \n\u001b[0;32m      2\u001b[0m \u001b[38;5;28mprint\u001b[39m(s)\n",
      "\u001b[1;31mTypeError\u001b[0m: unhashable type: 'list'"
     ]
    }
   ],
   "source": [
    "s = {1,'hello',4.5,[1,2,3]} \n",
    "print(s)"
   ]
  },
  {
   "cell_type": "code",
   "execution_count": 47,
   "id": "185e7b52-0574-4b47-8e38-014d8a291420",
   "metadata": {},
   "outputs": [
    {
     "name": "stdout",
     "output_type": "stream",
     "text": [
      "True\n"
     ]
    }
   ],
   "source": [
    "s1 = {1,2,3}\n",
    "s2 = {3,2,1}\n",
    "print(s1 == s2)"
   ]
  },
  {
   "cell_type": "code",
   "execution_count": 48,
   "id": "0d8c882f-89ae-44ba-9903-ddb0d805bcf0",
   "metadata": {},
   "outputs": [
    {
     "ename": "TypeError",
     "evalue": "'set' object is not subscriptable",
     "output_type": "error",
     "traceback": [
      "\u001b[1;31m---------------------------------------------------------------------------\u001b[0m",
      "\u001b[1;31mTypeError\u001b[0m                                 Traceback (most recent call last)",
      "Cell \u001b[1;32mIn[48], line 3\u001b[0m\n\u001b[0;32m      1\u001b[0m \u001b[38;5;66;03m# accessing item\u001b[39;00m\n\u001b[0;32m      2\u001b[0m s1 \u001b[38;5;241m=\u001b[39m {\u001b[38;5;241m1\u001b[39m,\u001b[38;5;241m2\u001b[39m,\u001b[38;5;241m3\u001b[39m,\u001b[38;5;241m4\u001b[39m}\n\u001b[1;32m----> 3\u001b[0m \u001b[43ms1\u001b[49m\u001b[43m[\u001b[49m\u001b[38;5;241;43m0\u001b[39;49m\u001b[43m]\u001b[49m\n",
      "\u001b[1;31mTypeError\u001b[0m: 'set' object is not subscriptable"
     ]
    }
   ],
   "source": [
    "# accessing item\n",
    "s1 = {1,2,3,4}\n",
    "s1[0] \n"
   ]
  },
  {
   "cell_type": "code",
   "execution_count": 49,
   "id": "1b9719d5-94a5-43b0-99f3-d89a1aca58a5",
   "metadata": {},
   "outputs": [
    {
     "ename": "TypeError",
     "evalue": "'set' object does not support item assignment",
     "output_type": "error",
     "traceback": [
      "\u001b[1;31m---------------------------------------------------------------------------\u001b[0m",
      "\u001b[1;31mTypeError\u001b[0m                                 Traceback (most recent call last)",
      "Cell \u001b[1;32mIn[49], line 2\u001b[0m\n\u001b[0;32m      1\u001b[0m s1 \u001b[38;5;241m=\u001b[39m {\u001b[38;5;241m1\u001b[39m,\u001b[38;5;241m2\u001b[39m,\u001b[38;5;241m3\u001b[39m,\u001b[38;5;241m4\u001b[39m}\n\u001b[1;32m----> 2\u001b[0m \u001b[43ms1\u001b[49m\u001b[43m[\u001b[49m\u001b[38;5;241;43m0\u001b[39;49m\u001b[43m]\u001b[49m \u001b[38;5;241m=\u001b[39m \u001b[38;5;241m100\u001b[39m\n",
      "\u001b[1;31mTypeError\u001b[0m: 'set' object does not support item assignment"
     ]
    }
   ],
   "source": [
    "s1 = {1,2,3,4}\n",
    "s1[0] = 100"
   ]
  },
  {
   "cell_type": "code",
   "execution_count": 51,
   "id": "fef90cbc-b715-4c3e-ad62-6987898e81ed",
   "metadata": {},
   "outputs": [
    {
     "name": "stdout",
     "output_type": "stream",
     "text": [
      "{1, 2, 3, 4, 5}\n",
      "{1, 2, 3, 4, 5, 6, 7}\n"
     ]
    }
   ],
   "source": [
    "# adding item\n",
    "# add\n",
    "s = {1,2,3,4}\n",
    "s.add(5)\n",
    "print(s)\n",
    "# update, to add multiple items\n",
    "s.update([5,6,7])\n",
    "print(s)"
   ]
  },
  {
   "cell_type": "code",
   "execution_count": 52,
   "id": "b0e6470a-ecbd-4e60-9a90-a072bcccff4b",
   "metadata": {},
   "outputs": [
    {
     "name": "stdout",
     "output_type": "stream",
     "text": [
      "{1, 2, 3, 4, 5}\n"
     ]
    },
    {
     "ename": "NameError",
     "evalue": "name 's' is not defined",
     "output_type": "error",
     "traceback": [
      "\u001b[1;31m---------------------------------------------------------------------------\u001b[0m",
      "\u001b[1;31mNameError\u001b[0m                                 Traceback (most recent call last)",
      "Cell \u001b[1;32mIn[52], line 5\u001b[0m\n\u001b[0;32m      3\u001b[0m \u001b[38;5;28mprint\u001b[39m(s)\n\u001b[0;32m      4\u001b[0m \u001b[38;5;28;01mdel\u001b[39;00m s\n\u001b[1;32m----> 5\u001b[0m \u001b[38;5;28mprint\u001b[39m(\u001b[43ms\u001b[49m)\n\u001b[0;32m      6\u001b[0m \u001b[38;5;66;03m# del s[0] (not allowed)\u001b[39;00m\n\u001b[0;32m      7\u001b[0m \u001b[38;5;66;03m#print(s)\u001b[39;00m\n",
      "\u001b[1;31mNameError\u001b[0m: name 's' is not defined"
     ]
    }
   ],
   "source": [
    "# del\n",
    "s = {1,2,3,4,5}\n",
    "print(s)\n",
    "del s\n",
    "print(s)\n",
    "# del s[0] (not allowed)\n",
    "#print(s)"
   ]
  },
  {
   "cell_type": "code",
   "execution_count": 57,
   "id": "e4ee0a44-1d01-43a1-a23a-ba2d7bfadf78",
   "metadata": {},
   "outputs": [
    {
     "name": "stdout",
     "output_type": "stream",
     "text": [
      "{1, 2, 3, 4}\n",
      "{1, 2, 3, 4}\n"
     ]
    }
   ],
   "source": [
    "# discard\n",
    "s = {1,2,3,4,5}\n",
    "s.discard(5)\n",
    "print(s)\n",
    "s.discard(50)\n",
    "print(s)"
   ]
  },
  {
   "cell_type": "code",
   "execution_count": 58,
   "id": "8beadc73-a9c7-4d70-ab50-2a14bec4176c",
   "metadata": {},
   "outputs": [
    {
     "name": "stdout",
     "output_type": "stream",
     "text": [
      "{1, 2, 3, 5}\n"
     ]
    },
    {
     "ename": "KeyError",
     "evalue": "50",
     "output_type": "error",
     "traceback": [
      "\u001b[1;31m---------------------------------------------------------------------------\u001b[0m",
      "\u001b[1;31mKeyError\u001b[0m                                  Traceback (most recent call last)",
      "Cell \u001b[1;32mIn[58], line 5\u001b[0m\n\u001b[0;32m      3\u001b[0m s\u001b[38;5;241m.\u001b[39mremove(\u001b[38;5;241m4\u001b[39m)\n\u001b[0;32m      4\u001b[0m \u001b[38;5;28mprint\u001b[39m(s)\n\u001b[1;32m----> 5\u001b[0m \u001b[43ms\u001b[49m\u001b[38;5;241;43m.\u001b[39;49m\u001b[43mremove\u001b[49m\u001b[43m(\u001b[49m\u001b[38;5;241;43m50\u001b[39;49m\u001b[43m)\u001b[49m\n\u001b[0;32m      6\u001b[0m \u001b[38;5;28mprint\u001b[39m(s)\n",
      "\u001b[1;31mKeyError\u001b[0m: 50"
     ]
    }
   ],
   "source": [
    "# remove\n",
    "s = {1,2,3,4,5}\n",
    "s.remove(4)\n",
    "print(s)\n",
    "s.remove(50)\n",
    "print(s)"
   ]
  },
  {
   "cell_type": "code",
   "execution_count": 61,
   "id": "054aae42-72cf-4b43-a471-54d5f8c02c86",
   "metadata": {},
   "outputs": [
    {
     "name": "stdout",
     "output_type": "stream",
     "text": [
      "{2, 3, 4, 5}\n"
     ]
    }
   ],
   "source": [
    "# pop\n",
    "s = {1,2,3,4,5}\n",
    "s.pop()\n",
    "print(s)"
   ]
  },
  {
   "cell_type": "code",
   "execution_count": 62,
   "id": "2945693b-f3e5-4abe-a253-0c22d6bdeb90",
   "metadata": {},
   "outputs": [
    {
     "name": "stdout",
     "output_type": "stream",
     "text": [
      "set()\n"
     ]
    }
   ],
   "source": [
    "# clear\n",
    "s = {1,2,3,4,5}\n",
    "s.clear()\n",
    "print(s)"
   ]
  },
  {
   "cell_type": "code",
   "execution_count": 65,
   "id": "038da641-b493-42f6-ac6b-a32566d23569",
   "metadata": {},
   "outputs": [
    {
     "name": "stdout",
     "output_type": "stream",
     "text": [
      "{1, 2, 3, 4, 5, 6, 7, 8}\n",
      "{4, 5}\n",
      "{1, 2, 3}\n",
      "{8, 6, 7}\n",
      "{1, 2, 3, 6, 7, 8}\n",
      "False\n",
      "1\n",
      "2\n",
      "3\n",
      "4\n",
      "5\n"
     ]
    }
   ],
   "source": [
    "# set operations\n",
    "s1 = {1,2,3,4,5}\n",
    "s2 = {4,5,6,7,8}\n",
    "# union\n",
    "print(s1|s2)\n",
    "# intersaction\n",
    "print(s1&s2)\n",
    "# difference\n",
    "print(s1-s2)\n",
    "print(s2-s1)\n",
    "# symmetric difference(^)\n",
    "print(s1^s2)\n",
    "# membership test\n",
    "print(1 not in s1)\n",
    "# iteration\n",
    "for i in s1:\n",
    "    print(i)\n"
   ]
  },
  {
   "cell_type": "code",
   "execution_count": 67,
   "id": "4b826150-cf1c-490f-b3d8-994ed59f5ccc",
   "metadata": {},
   "outputs": [
    {
     "name": "stdout",
     "output_type": "stream",
     "text": [
      "6\n",
      "22\n",
      "1\n",
      "7\n",
      "[1, 2, 3, 4, 5, 7]\n"
     ]
    }
   ],
   "source": [
    "# len/sum/min/max/sorted\n",
    "s = {3,1,4,5,2,7}\n",
    "print(len(s))\n",
    "print(sum(s))\n",
    "print(min(s))\n",
    "print(max(s))\n",
    "print(sorted(s))"
   ]
  },
  {
   "cell_type": "code",
   "execution_count": 70,
   "id": "74cc8bd8-e012-4c7f-8770-c07a47dc7acf",
   "metadata": {},
   "outputs": [
    {
     "name": "stdout",
     "output_type": "stream",
     "text": [
      "{1, 2, 3, 4, 5, 6, 7, 8}\n",
      "{1, 2, 3, 4, 5, 6, 7, 8}\n",
      "{4, 5, 6, 7, 8}\n"
     ]
    }
   ],
   "source": [
    "# union/update\n",
    "s1 = {1,2,3,4,5}\n",
    "s2 = {4,5,6,7,8}\n",
    "print(s1.union(s2))\n",
    "s1.update(s2)\n",
    "print(s1)\n",
    "print(s2)"
   ]
  },
  {
   "cell_type": "code",
   "execution_count": 71,
   "id": "b481aa8b-325a-4411-bf03-858feeb37529",
   "metadata": {},
   "outputs": [
    {
     "name": "stdout",
     "output_type": "stream",
     "text": [
      "{4, 5}\n",
      "{4, 5}\n",
      "{4, 5, 6, 7, 8}\n"
     ]
    }
   ],
   "source": [
    "# intersection/intersection_update\n",
    "s1 = {1,2,3,4,5}\n",
    "s2 = {4,5,6,7,8}\n",
    "print(s1.intersection(s2))\n",
    "s1.intersection_update(s2)\n",
    "print(s1)\n",
    "print(s2)"
   ]
  },
  {
   "cell_type": "code",
   "execution_count": 72,
   "id": "af064a46-744c-411b-8163-e82ce3a0ac40",
   "metadata": {},
   "outputs": [
    {
     "name": "stdout",
     "output_type": "stream",
     "text": [
      "{1, 2, 3}\n",
      "{1, 2, 3}\n",
      "{4, 5, 6, 7, 8}\n"
     ]
    }
   ],
   "source": [
    "# difference/difference_update\n",
    "s1 = {1,2,3,4,5}\n",
    "s2 = {4,5,6,7,8}\n",
    "print(s1. difference(s2))\n",
    "s1. difference_update(s2)\n",
    "print(s1)\n",
    "print(s2)"
   ]
  },
  {
   "cell_type": "code",
   "execution_count": 73,
   "id": "241aa247-1907-442b-91c8-bab4f1e59645",
   "metadata": {},
   "outputs": [
    {
     "name": "stdout",
     "output_type": "stream",
     "text": [
      "{1, 2, 3, 6, 7, 8}\n",
      "{1, 2, 3, 6, 7, 8}\n",
      "{4, 5, 6, 7, 8}\n"
     ]
    }
   ],
   "source": [
    "# symmetric_difference/symmetric_difference_update\n",
    "s1 = {1,2,3,4,5}\n",
    "s2 = {4,5,6,7,8}\n",
    "print(s1.symmetric_difference(s2))\n",
    "s1.symmetric_difference_update(s2)\n",
    "print(s1)\n",
    "print(s2)"
   ]
  },
  {
   "cell_type": "code",
   "execution_count": 74,
   "id": "37efda57-a1cc-42da-9d33-2372cabae867",
   "metadata": {},
   "outputs": [
    {
     "data": {
      "text/plain": [
       "False"
      ]
     },
     "execution_count": 74,
     "metadata": {},
     "output_type": "execute_result"
    }
   ],
   "source": [
    "# isdisjoint\n",
    "s1 = {1,2,3,4,5}\n",
    "s2 = {4,5,6,7,8}\n",
    "s1.isdisjoint(s2)"
   ]
  },
  {
   "cell_type": "code",
   "execution_count": 75,
   "id": "f1e9d543-8c5b-4113-96a5-64f0ab4c7535",
   "metadata": {},
   "outputs": [
    {
     "name": "stdout",
     "output_type": "stream",
     "text": [
      "True\n",
      "False\n"
     ]
    }
   ],
   "source": [
    "# issubset\n",
    "s1 = {1,2,3,4,5}\n",
    "s2 = {3,4,5}\n",
    "print(s2.issubset(s1))\n",
    "# superset\n",
    "print(s2.issuperset(s1))\n",
    "\n"
   ]
  },
  {
   "cell_type": "code",
   "execution_count": 76,
   "id": "050dabd8-e97d-454e-b18e-c97e2b2b8f8e",
   "metadata": {},
   "outputs": [
    {
     "name": "stdout",
     "output_type": "stream",
     "text": [
      "{1, 2, 3}\n",
      "{1, 2, 3}\n"
     ]
    }
   ],
   "source": [
    "# copy\n",
    "s1 = {1,2,3}\n",
    "s2 = s1.copy()\n",
    "print(s1)\n",
    "print(s2)"
   ]
  },
  {
   "cell_type": "code",
   "execution_count": 79,
   "id": "c3d4ae4a-439f-454f-b1f4-92caa431096b",
   "metadata": {},
   "outputs": [
    {
     "data": {
      "text/plain": [
       "frozenset({1, 2, 3})"
      ]
     },
     "execution_count": 79,
     "metadata": {},
     "output_type": "execute_result"
    }
   ],
   "source": [
    "# create frozenset\n",
    "fs = frozenset([1,2,3])\n",
    "fs"
   ]
  },
  {
   "cell_type": "code",
   "execution_count": 80,
   "id": "02572d3c-94bd-4e40-9551-852712ea820f",
   "metadata": {},
   "outputs": [
    {
     "data": {
      "text/plain": [
       "frozenset({1, 2, 3, 4, 5})"
      ]
     },
     "execution_count": 80,
     "metadata": {},
     "output_type": "execute_result"
    }
   ],
   "source": [
    "fs1 = frozenset([1,2,3])\n",
    "fs2 = frozenset([3,4,5])\n",
    "fs1|fs2"
   ]
  },
  {
   "cell_type": "code",
   "execution_count": 81,
   "id": "545b02b2-3fd0-45a9-87ad-0462f593872e",
   "metadata": {},
   "outputs": [
    {
     "data": {
      "text/plain": [
       "frozenset({1, 2, frozenset({3, 4})})"
      ]
     },
     "execution_count": 81,
     "metadata": {},
     "output_type": "execute_result"
    }
   ],
   "source": [
    "# 2D\n",
    "fs = frozenset([1,2,frozenset([3,4])])\n",
    "fs"
   ]
  },
  {
   "cell_type": "code",
   "execution_count": 82,
   "id": "4e2931a6-1b76-4ccd-b0b2-a563ae704e91",
   "metadata": {},
   "outputs": [
    {
     "data": {
      "text/plain": [
       "{1, 2, 3, 4, 5, 6, 7, 8, 9, 10}"
      ]
     },
     "execution_count": 82,
     "metadata": {},
     "output_type": "execute_result"
    }
   ],
   "source": [
    "# set comprehension\n",
    "{i for i in range(1,11)}\n"
   ]
  },
  {
   "cell_type": "code",
   "execution_count": 83,
   "id": "16bd3e2e-d452-4cf1-88b2-43b729ab50dd",
   "metadata": {},
   "outputs": [
    {
     "data": {
      "text/plain": [
       "{6, 7, 8, 9, 10}"
      ]
     },
     "execution_count": 83,
     "metadata": {},
     "output_type": "execute_result"
    }
   ],
   "source": [
    "{i for i in range(1,11) if i>5}"
   ]
  },
  {
   "cell_type": "code",
   "execution_count": 118,
   "id": "01ab7b0a-213a-45f0-a612-87c2fdcb9207",
   "metadata": {},
   "outputs": [
    {
     "name": "stdout",
     "output_type": "stream",
     "text": [
      "{}\n",
      "{'name': 'Nitish', 'age': 33, 'Gender': 'male'}\n",
      "{(1, 2, 3): 1, 'hello': 'world'}\n",
      "{'Name': 'Ananta', ' College': 'bit', 'Sem': 4, 'Subjects': {'DSA': 50, 'Maths': 67, 'English': 34}}\n",
      "{'name': 'nitish', 'age': 32, 3: 3}\n",
      "{'name': 'Rahul'}\n",
      "{'name': 'nitish', (1, 2, 3, 4): 2}\n"
     ]
    },
    {
     "ename": "TypeError",
     "evalue": "unhashable type: 'list'",
     "output_type": "error",
     "traceback": [
      "\u001b[1;31m---------------------------------------------------------------------------\u001b[0m",
      "\u001b[1;31mTypeError\u001b[0m                                 Traceback (most recent call last)",
      "Cell \u001b[1;32mIn[118], line 32\u001b[0m\n\u001b[0;32m     30\u001b[0m d6 \u001b[38;5;241m=\u001b[39m {\u001b[38;5;124m'\u001b[39m\u001b[38;5;124mname\u001b[39m\u001b[38;5;124m'\u001b[39m:\u001b[38;5;124m'\u001b[39m\u001b[38;5;124mnitish\u001b[39m\u001b[38;5;124m'\u001b[39m,(\u001b[38;5;241m1\u001b[39m,\u001b[38;5;241m2\u001b[39m,\u001b[38;5;241m3\u001b[39m,\u001b[38;5;241m4\u001b[39m):\u001b[38;5;241m2\u001b[39m}\n\u001b[0;32m     31\u001b[0m \u001b[38;5;28mprint\u001b[39m(d6)\n\u001b[1;32m---> 32\u001b[0m d7 \u001b[38;5;241m=\u001b[39m {\u001b[38;5;124m'\u001b[39m\u001b[38;5;124mname\u001b[39m\u001b[38;5;124m'\u001b[39m:\u001b[38;5;124m'\u001b[39m\u001b[38;5;124mnitish\u001b[39m\u001b[38;5;124m'\u001b[39m,[\u001b[38;5;241m1\u001b[39m,\u001b[38;5;241m2\u001b[39m,\u001b[38;5;241m3\u001b[39m,\u001b[38;5;241m4\u001b[39m]:\u001b[38;5;241m2\u001b[39m}\n\u001b[0;32m     33\u001b[0m \u001b[38;5;28mprint\u001b[39m(d7)\n\u001b[0;32m     34\u001b[0m d8 \u001b[38;5;241m=\u001b[39m {\u001b[38;5;124m'\u001b[39m\u001b[38;5;124mname\u001b[39m\u001b[38;5;124m'\u001b[39m:\u001b[38;5;124m'\u001b[39m\u001b[38;5;124mnitish\u001b[39m\u001b[38;5;124m'\u001b[39m,{\u001b[38;5;241m1\u001b[39m,\u001b[38;5;241m2\u001b[39m,\u001b[38;5;241m3\u001b[39m,\u001b[38;5;241m4\u001b[39m}:\u001b[38;5;241m2\u001b[39m}\n",
      "\u001b[1;31mTypeError\u001b[0m: unhashable type: 'list'"
     ]
    }
   ],
   "source": [
    "# dictionary\n",
    "# empty dictionary\n",
    "d = {}\n",
    "print(d)\n",
    "# 1D dictionary\n",
    "d1 = {'name':'Nitish','age':33,'Gender':'male'}\n",
    "print(d1)\n",
    "# with mixed keys\n",
    "d2 = {(1,2,3):1,'hello':'world'}\n",
    "print(d2)\n",
    "# 2D dictionary\n",
    "s = {\n",
    "    'Name':'Ananta',\n",
    "    ' College':'bit',\n",
    "    'Sem':4,\n",
    "    'Subjects':{\n",
    "        'DSA':50,\n",
    "         'Maths':67,\n",
    "        'English':34\n",
    "     }\n",
    "}\n",
    "print(s)\n",
    "# using sequence and dict function\n",
    "d4 = dict([('name','nitish'),('age',32),(3,3)])\n",
    "print(d4)\n",
    "# duplicate keys\n",
    "d5 = {'name':'Nitish','name':'Rahul'}\n",
    "print(d5)\n",
    "# mutable items as keys\n",
    "d6 = {'name':'nitish',(1,2,3,4):2}\n",
    "print(d6)\n",
    "d7 = {'name':'nitish',[1,2,3,4]:2}\n",
    "print(d7)\n",
    "d8 = {'name':'nitish',{1,2,3,4}:2}\n",
    "print(d8)"
   ]
  },
  {
   "cell_type": "code",
   "execution_count": 101,
   "id": "73f0e208-038c-4d5f-bc0d-cbc3ec4d4470",
   "metadata": {},
   "outputs": [
    {
     "name": "stdout",
     "output_type": "stream",
     "text": [
      "26\n",
      "Jack\n"
     ]
    }
   ],
   "source": [
    "# Accessinng items\n",
    "my_dict = {'name':'Jack','Age':26}\n",
    "# []\n",
    "print(my_dict['Age'])\n",
    "# get\n",
    "print(my_dict.get('name'))\n"
   ]
  },
  {
   "cell_type": "code",
   "execution_count": 106,
   "id": "87766890-6967-4cf5-907c-1d705063a04f",
   "metadata": {},
   "outputs": [
    {
     "data": {
      "text/plain": [
       "{'name': 'nitish', 'age': 32, 3: 3, 'gender': 'male', 'weight': 72}"
      ]
     },
     "execution_count": 106,
     "metadata": {},
     "output_type": "execute_result"
    }
   ],
   "source": [
    "# adding key-value pair\n",
    "d4['gender'] = 'male'\n",
    "d4['weight'] = 72\n",
    "d4"
   ]
  },
  {
   "cell_type": "code",
   "execution_count": 109,
   "id": "505123af-434f-4b82-985a-2735ea320691",
   "metadata": {},
   "outputs": [
    {
     "name": "stdout",
     "output_type": "stream",
     "text": [
      "{'name': 'nitish', 'age': 32, 'gender': 'male', 'weight': 72}\n",
      "{'name': 'nitish', 'age': 32}\n",
      "{'age': 32}\n",
      "{}\n"
     ]
    }
   ],
   "source": [
    "# remove key-value pair\n",
    "d = {'name': 'nitish', 'age': 32, 3: 3, 'gender': 'male', 'weight': 72}\n",
    "# pop\n",
    "d.pop(3)\n",
    "print(d)\n",
    "# popitem\n",
    "d.popitem()\n",
    "d.popitem()\n",
    "print(d)\n",
    "# del\n",
    "del d['name']\n",
    "print(d)\n",
    "# clear\n",
    "d.clear()\n",
    "print(d)\n"
   ]
  },
  {
   "cell_type": "code",
   "execution_count": 119,
   "id": "3a220220-7395-44f4-a94d-98b4770f8c49",
   "metadata": {},
   "outputs": [
    {
     "name": "stdout",
     "output_type": "stream",
     "text": [
      "{'Name': 'Ananta', ' College': 'bit', 'Sem': 4, 'Subjects': {'DSA': 50, 'Maths': 67, 'English': 34}}\n",
      "{'DSA': 50, 'Maths': 67, 'English': 34}\n",
      "67\n"
     ]
    }
   ],
   "source": [
    "# accessing item from 2D dictionary\n",
    "print(s)\n",
    "print(s['Subjects'])\n",
    "print(s['Subjects']['Maths'])\n"
   ]
  },
  {
   "cell_type": "code",
   "execution_count": 121,
   "id": "ad8b2b32-40f8-4ec8-9433-6842d3b532f5",
   "metadata": {},
   "outputs": [
    {
     "name": "stdout",
     "output_type": "stream",
     "text": [
      "{'Name': 'Ananta', ' College': 'bit', 'Sem': 4, 'Subjects': {'DSA': 50, 'Maths': 67, 'English': 34}}\n",
      "{'Name': 'Ananta', ' College': 'bit', 'Sem': 4, 'Subjects': {'DSA': 50, 'Maths': 67, 'English': 34, 'ds': 75}}\n"
     ]
    }
   ],
   "source": [
    "# adding key-value pair in 2D dictionary\n",
    "print(s)\n",
    "s['Subjects']['ds'] = 75\n",
    "print(s)"
   ]
  },
  {
   "cell_type": "code",
   "execution_count": 122,
   "id": "380a4e42-5e8f-4059-b50c-e4698e43437e",
   "metadata": {},
   "outputs": [
    {
     "name": "stdout",
     "output_type": "stream",
     "text": [
      "{'Name': 'Ananta', ' College': 'bit', 'Sem': 4, 'Subjects': {'DSA': 50, 'Maths': 67, 'English': 34, 'ds': 75}}\n"
     ]
    }
   ],
   "source": [
    "# deleting in 2D array\n",
    "print(s)\n",
    "del s['Subjects']['Maths']"
   ]
  },
  {
   "cell_type": "code",
   "execution_count": 124,
   "id": "bb9d2dcb-5662-4ee5-9c74-0d62c5189dcd",
   "metadata": {},
   "outputs": [
    {
     "name": "stdout",
     "output_type": "stream",
     "text": [
      "{'Name': 'Ananta', ' College': 'bit', 'Sem': 4, 'Subjects': {'DSA': 50, 'English': 34, 'ds': 75}, 'sem': 5}\n",
      "{'Name': 'Ananta', ' College': 'bit', 'Sem': 4, 'Subjects': {'DSA': 80, 'English': 34, 'ds': 75}, 'sem': 5}\n"
     ]
    }
   ],
   "source": [
    "# editing key-value pair\n",
    "s['sem'] = 5\n",
    "print(s)\n",
    "s['Subjects']['DSA'] = 80\n",
    "print(s)\n"
   ]
  },
  {
   "cell_type": "code",
   "execution_count": 127,
   "id": "a7bfcba7-7402-40af-a2cb-79275a619a2c",
   "metadata": {},
   "outputs": [
    {
     "name": "stdout",
     "output_type": "stream",
     "text": [
      "False\n",
      "True\n"
     ]
    }
   ],
   "source": [
    "# membership\n",
    "print('Ananta' in s)\n",
    "print('Name' in s)"
   ]
  },
  {
   "cell_type": "code",
   "execution_count": 129,
   "id": "a6987710-b15a-45c0-95af-0d4c154660f9",
   "metadata": {},
   "outputs": [
    {
     "name": "stdout",
     "output_type": "stream",
     "text": [
      "name\n",
      "name nitish\n",
      "gender\n",
      "gender male\n",
      "age\n",
      "age 20\n"
     ]
    }
   ],
   "source": [
    "d = {'name':'nitish','gender':'male','age':20}\n",
    "for i in d:\n",
    "    print(i)\n",
    "    print(i,d[i])"
   ]
  },
  {
   "cell_type": "code",
   "execution_count": 135,
   "id": "7f46c9a2-99a2-4b96-8172-bf5f74aa4cf6",
   "metadata": {},
   "outputs": [
    {
     "name": "stdout",
     "output_type": "stream",
     "text": [
      "{'name': 'nitish', 'gender': 'male', 'age': 20}\n",
      "['name', 'gender', 'age']\n",
      "age\n"
     ]
    }
   ],
   "source": [
    "#len/sorted/min/max\n",
    "len(d)\n",
    "print(d)\n",
    "print(sorted(d,reverse=True))\n",
    "print(min(d))"
   ]
  },
  {
   "cell_type": "code",
   "execution_count": 137,
   "id": "47ad11da-c4cc-423e-b5cd-5060a7d86816",
   "metadata": {},
   "outputs": [
    {
     "name": "stdout",
     "output_type": "stream",
     "text": [
      "{'name': 'nitish', 'gender': 'male', 'age': 20}\n",
      "dict_items([('name', 'nitish'), ('gender', 'male'), ('age', 20)])\n",
      "dict_keys(['name', 'gender', 'age'])\n",
      "dict_values(['nitish', 'male', 20])\n"
     ]
    }
   ],
   "source": [
    "# items/keys/values\n",
    "print(d)\n",
    "print(d.items())\n",
    "print(d.keys())\n",
    "print(d.values())\n"
   ]
  },
  {
   "cell_type": "code",
   "execution_count": 139,
   "id": "47824d0e-61c0-42cb-94b3-c6bf9090b759",
   "metadata": {},
   "outputs": [
    {
     "name": "stdout",
     "output_type": "stream",
     "text": [
      "{1: 2, 3: 4, 4: 7, 6: 8}\n"
     ]
    }
   ],
   "source": [
    "# update\n",
    "d1 = {1:2,3:4,4:5}\n",
    "d2 = {4:7,6:8}\n",
    "d1.update(d2)\n",
    "print(d1)\n"
   ]
  },
  {
   "cell_type": "code",
   "execution_count": 140,
   "id": "8203fb77-9f32-4a25-99fb-026532beeef9",
   "metadata": {},
   "outputs": [
    {
     "data": {
      "text/plain": [
       "{1: 1, 2: 4, 3: 9, 4: 16, 5: 25, 6: 36, 7: 49, 8: 64, 9: 81, 10: 100}"
      ]
     },
     "execution_count": 140,
     "metadata": {},
     "output_type": "execute_result"
    }
   ],
   "source": [
    "# dictionary comprehension\n",
    "# print 1st 10 numbers and their squares\n",
    "{i:i**2 for i in range(1,11)}"
   ]
  },
  {
   "cell_type": "code",
   "execution_count": 147,
   "id": "f4789282-84ea-4d73-87ca-7fa92963c49e",
   "metadata": {},
   "outputs": [
    {
     "name": "stdout",
     "output_type": "stream",
     "text": [
      "dict_items([('delhi', 1000), ('mumbai', 2000), ('bangalore', 3000)])\n"
     ]
    },
    {
     "data": {
      "text/plain": [
       "{'delhi': 620.0, 'mumbai': 1240.0, 'bangalore': 1860.0}"
      ]
     },
     "execution_count": 147,
     "metadata": {},
     "output_type": "execute_result"
    }
   ],
   "source": [
    "# using existing dict\n",
    "dist = {'delhi':1000,'mumbai':2000,'bangalore':3000}\n",
    "print(dist.items())\n",
    "{key:value*0.62 for (key,value) in dist.items()}\n"
   ]
  },
  {
   "cell_type": "code",
   "execution_count": 149,
   "id": "6b22f316-5f9c-4f50-abdb-2897ff4d6cce",
   "metadata": {},
   "outputs": [
    {
     "data": {
      "text/plain": [
       "{'sun': 30.5,\n",
       " 'mon': 32.6,\n",
       " 'tue': 31.8,\n",
       " 'wed': 33.8,\n",
       " 'thur': 29.8,\n",
       " 'fri': 30.2,\n",
       " 'sat': 29.9}"
      ]
     },
     "execution_count": 149,
     "metadata": {},
     "output_type": "execute_result"
    }
   ],
   "source": [
    "# using zip\n",
    "days = ['sun','mon','tue','wed','thur','fri','sat']\n",
    "temp_c = [30.5,32.6,31.8,33.8,29.8,30.2,29.9]\n",
    "{i:j for (i,j) in zip(days,temp_c)}"
   ]
  },
  {
   "cell_type": "code",
   "execution_count": 151,
   "id": "e53b5826-19e1-4234-9f2a-2414c7048d3b",
   "metadata": {},
   "outputs": [
    {
     "data": {
      "text/plain": [
       "{'phn': 10, 'charge': 32}"
      ]
     },
     "execution_count": 151,
     "metadata": {},
     "output_type": "execute_result"
    }
   ],
   "source": [
    "# using if connditons\n",
    "products = {'phn':10,'laptop':0,'charge':32,'tablet':0}\n",
    "{key:value for (key,value) in products.items() if value>0}"
   ]
  },
  {
   "cell_type": "code",
   "execution_count": 152,
   "id": "d3f1c401-fccf-4e67-aadf-1792ee8a8828",
   "metadata": {},
   "outputs": [
    {
     "data": {
      "text/plain": [
       "{2: {1: 2, 2: 4, 3: 6, 4: 8, 5: 10, 6: 12, 7: 14, 8: 16, 9: 18, 10: 20},\n",
       " 3: {1: 3, 2: 6, 3: 9, 4: 12, 5: 15, 6: 18, 7: 21, 8: 24, 9: 27, 10: 30},\n",
       " 4: {1: 4, 2: 8, 3: 12, 4: 16, 5: 20, 6: 24, 7: 28, 8: 32, 9: 36, 10: 40}}"
      ]
     },
     "execution_count": 152,
     "metadata": {},
     "output_type": "execute_result"
    }
   ],
   "source": [
    "# nested comprehension\n",
    "# print tables of numbers from 2 to 4\n",
    "{i:{j:i*j for j in range(1,11)} for i in range(2,5)}"
   ]
  },
  {
   "cell_type": "code",
   "execution_count": null,
   "id": "c4ee2668-5bb0-43c7-aaa6-007169a0b543",
   "metadata": {},
   "outputs": [],
   "source": []
  }
 ],
 "metadata": {
  "kernelspec": {
   "display_name": "Python 3 (ipykernel)",
   "language": "python",
   "name": "python3"
  },
  "language_info": {
   "codemirror_mode": {
    "name": "ipython",
    "version": 3
   },
   "file_extension": ".py",
   "mimetype": "text/x-python",
   "name": "python",
   "nbconvert_exporter": "python",
   "pygments_lexer": "ipython3",
   "version": "3.12.3"
  }
 },
 "nbformat": 4,
 "nbformat_minor": 5
}
