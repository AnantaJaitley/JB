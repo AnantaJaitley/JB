{
 "cells": [
  {
   "cell_type": "code",
   "execution_count": 2,
   "id": "02c9693b-769d-4f43-af9a-72fc363a0f76",
   "metadata": {},
   "outputs": [],
   "source": [
    "# creating class\n",
    "class Student: \n",
    "    name = \"Karan Kumar\""
   ]
  },
  {
   "cell_type": "code",
   "execution_count": 3,
   "id": "f2f345ca-d614-49a1-b8d5-c532d282fce1",
   "metadata": {},
   "outputs": [
    {
     "name": "stdout",
     "output_type": "stream",
     "text": [
      "Karan Kumar\n"
     ]
    }
   ],
   "source": [
    "# creating object\n",
    "s1 = Student()\n",
    "print(s1.name)"
   ]
  },
  {
   "cell_type": "code",
   "execution_count": 5,
   "id": "c994fe4f-74db-482e-822c-7dc35ed95f5a",
   "metadata": {},
   "outputs": [
    {
     "name": "stdout",
     "output_type": "stream",
     "text": [
      "Karan Kumar\n"
     ]
    }
   ],
   "source": [
    "s2 = Student()\n",
    "print(s2.name)"
   ]
  },
  {
   "cell_type": "code",
   "execution_count": 7,
   "id": "c0b65d8d-11f9-4008-9120-dea4c5c0a3f1",
   "metadata": {},
   "outputs": [
    {
     "name": "stdout",
     "output_type": "stream",
     "text": [
      "blue\n",
      "mercedes\n"
     ]
    }
   ],
   "source": [
    "class Car:\n",
    "    color = \"blue\"\n",
    "    brand = \"mercedes\"\n",
    "car1 = Car()\n",
    "print(car1.color)\n",
    "print(car1.brand)"
   ]
  },
  {
   "cell_type": "code",
   "execution_count": 12,
   "id": "b94d7122-8f65-4952-8eaf-e2898ebb7621",
   "metadata": {},
   "outputs": [
    {
     "name": "stdout",
     "output_type": "stream",
     "text": [
      "<__main__.Student object at 0x000001CDD1AF6090>\n",
      "adding new student in datbase..\n",
      "<__main__.Student object at 0x000001CDD1AF6090>\n"
     ]
    }
   ],
   "source": [
    "class Student: \n",
    "    name = \"Karan Kumar\"\n",
    "    def __init__(self):\n",
    "        print(self)\n",
    "        print(\"adding new student in datbase..\")\n",
    "s1 = Student()\n",
    "print(s1)"
   ]
  },
  {
   "cell_type": "code",
   "execution_count": 23,
   "id": "e4112645-c852-4452-af86-1c9c5d3ea3dd",
   "metadata": {},
   "outputs": [
    {
     "name": "stdout",
     "output_type": "stream",
     "text": [
      "adding new student in datbase..\n",
      "welcome student Karan\n",
      "Karan 97\n",
      "97\n",
      "adding new student in datbase..\n",
      "Arjun 88\n",
      "ABC college\n",
      "ABC college\n"
     ]
    }
   ],
   "source": [
    "class Student:\n",
    "    college_name = \"ABC college\"\n",
    "   # name = \"Karan Kumar\"\n",
    "    #default connstructors\n",
    "    def __init__(self):\n",
    "          pass\n",
    "    # parameterized constructors\n",
    "    def __init__(self,name,marks):\n",
    "       # print(self)\n",
    "        self.name = name\n",
    "        self.marks = marks\n",
    "        print(\"adding new student in datbase..\")\n",
    "    def welcome(self): #method\n",
    "        print(\"welcome student\",self.name)\n",
    "    def get_marks(self):\n",
    "        return self.marks\n",
    "s1 = Student(\"Karan\",97)\n",
    "s1.welcome()\n",
    "print(s1.name,s1.marks)\n",
    "print(s1.get_marks())\n",
    "s2 = Student(\"Arjun\",88)\n",
    "print(s2.name,s2.marks)\n",
    "print(s2.college_name)\n",
    "print(Student.college_name)\n"
   ]
  },
  {
   "cell_type": "code",
   "execution_count": 28,
   "id": "06d3287f-20a1-44ce-9c83-b8c6c9b350da",
   "metadata": {},
   "outputs": [
    {
     "name": "stdout",
     "output_type": "stream",
     "text": [
      "hi Ananta Your avg score is: 98.0\n",
      "hello\n",
      "hi ironman Your avg score is: 98.0\n"
     ]
    }
   ],
   "source": [
    "# Create student class that takes name & marks of 3 subjects as arguments in constructor.Then create amethod to print the average.\n",
    "class Student:\n",
    "    def __init__(self,name,marks):\n",
    "        self.name = name\n",
    "        self.marks = marks\n",
    "    @staticmethod    \n",
    "    def hello():\n",
    "        print(\"hello\")\n",
    "    def get_avg(self):\n",
    "        sum = 0\n",
    "        for val in self.marks:\n",
    "            sum+=val\n",
    "        print(\"hi\",self.name,\"Your avg score is:\",sum/3)\n",
    "s1 = Student(\"Ananta\",[99,98,97])\n",
    "s1.get_avg()\n",
    "s1.hello()\n",
    "s1.name = \"ironman\"\n",
    "s1.get_avg()\n"
   ]
  },
  {
   "cell_type": "code",
   "execution_count": 31,
   "id": "bf7fe433-e872-4da9-90f5-9e4c6a174f06",
   "metadata": {},
   "outputs": [
    {
     "name": "stdout",
     "output_type": "stream",
     "text": [
      "car started\n"
     ]
    }
   ],
   "source": [
    "#abstraction\n",
    "class Car:\n",
    "    def __init__(self):\n",
    "        self.acc = False\n",
    "        self.brk = False\n",
    "        self.clutch = False\n",
    "    def start(self):\n",
    "        self.clutch = True\n",
    "        self.acc = True\n",
    "        self.brk = True\n",
    "        print(\"car started\")\n",
    "car1 = Car()\n",
    "car1.start()\n",
    "        "
   ]
  },
  {
   "cell_type": "code",
   "execution_count": 35,
   "id": "9ffa9d5b-fb14-4448-907a-8fe981d0bee0",
   "metadata": {},
   "outputs": [
    {
     "name": "stdout",
     "output_type": "stream",
     "text": [
      "rs 1000 was debited\n",
      "total balance = 9000\n",
      "rs 500 was credited\n",
      "total balance = 9500\n",
      "rs 40000 was credited\n",
      "total balance = 49500\n",
      "49500\n",
      "12345\n"
     ]
    }
   ],
   "source": [
    "#create Account class with 2 attributes-balance & account no.Create methods for debit,credit & printing balance\n",
    "\n",
    "class Account:\n",
    "    def __init__(self,bal,acc):\n",
    "        self.balance = bal\n",
    "        self.account_no = acc\n",
    "    #debit  method\n",
    "    def debit(self,amount):\n",
    "        self.balance -= amount\n",
    "        print(\"rs\",amount,\"was debited\")\n",
    "        print(\"total balance =\", self.get_balance())\n",
    "    def credit(self,amount):\n",
    "        self.balance += amount\n",
    "        print(\"rs\",amount,\"was credited\")\n",
    "        print(\"total balance =\", self.get_balance())\n",
    "    def get_balance(self):\n",
    "        return self.balance\n",
    "acc1 = Account(10000,12345)\n",
    "acc1.debit(1000)\n",
    "acc1.credit(500)\n",
    "acc1.credit(40000)\n",
    "print(acc1.balance)\n",
    "print(acc1.account_no)"
   ]
  },
  {
   "cell_type": "code",
   "execution_count": 38,
   "id": "cf52ff5e-38d7-4e51-a712-6e8aaf220170",
   "metadata": {},
   "outputs": [
    {
     "name": "stdout",
     "output_type": "stream",
     "text": [
      "<__main__.Student object at 0x000001CDD1C75A60>\n",
      "shradha\n"
     ]
    },
    {
     "ename": "NameError",
     "evalue": "name 's1' is not defined",
     "output_type": "error",
     "traceback": [
      "\u001b[1;31m---------------------------------------------------------------------------\u001b[0m",
      "\u001b[1;31mNameError\u001b[0m                                 Traceback (most recent call last)",
      "Cell \u001b[1;32mIn[38], line 9\u001b[0m\n\u001b[0;32m      7\u001b[0m \u001b[38;5;28;01mdel\u001b[39;00m s1\u001b[38;5;241m.\u001b[39mname\n\u001b[0;32m      8\u001b[0m \u001b[38;5;28;01mdel\u001b[39;00m s1\n\u001b[1;32m----> 9\u001b[0m \u001b[38;5;28mprint\u001b[39m(\u001b[43ms1\u001b[49m\u001b[38;5;241m.\u001b[39mname)\n\u001b[0;32m     10\u001b[0m \u001b[38;5;28mprint\u001b[39m(s1)\n",
      "\u001b[1;31mNameError\u001b[0m: name 's1' is not defined"
     ]
    }
   ],
   "source": [
    "class Student:\n",
    "    def __init__(self,name):\n",
    "        self.name = name\n",
    "s1 = Student(\"shradha\")\n",
    "print(s1)\n",
    "print(s1.name)\n",
    "del s1.name\n",
    "del s1\n",
    "print(s1.name)\n",
    "print(s1)"
   ]
  },
  {
   "cell_type": "code",
   "execution_count": 42,
   "id": "854d33da-fdb0-4c01-b077-df7ddf5725f7",
   "metadata": {},
   "outputs": [
    {
     "name": "stdout",
     "output_type": "stream",
     "text": [
      "Hello person!\n",
      "None\n"
     ]
    },
    {
     "ename": "AttributeError",
     "evalue": "'Person' object has no attribute '__hello'",
     "output_type": "error",
     "traceback": [
      "\u001b[1;31m---------------------------------------------------------------------------\u001b[0m",
      "\u001b[1;31mAttributeError\u001b[0m                            Traceback (most recent call last)",
      "Cell \u001b[1;32mIn[42], line 10\u001b[0m\n\u001b[0;32m      8\u001b[0m p1 \u001b[38;5;241m=\u001b[39m Person()\n\u001b[0;32m      9\u001b[0m \u001b[38;5;28mprint\u001b[39m(p1\u001b[38;5;241m.\u001b[39mwelcome())\n\u001b[1;32m---> 10\u001b[0m \u001b[38;5;28mprint\u001b[39m(\u001b[43mp1\u001b[49m\u001b[38;5;241;43m.\u001b[39;49m\u001b[43m__hello\u001b[49m())\n",
      "\u001b[1;31mAttributeError\u001b[0m: 'Person' object has no attribute '__hello'"
     ]
    }
   ],
   "source": [
    "# private\n",
    "class Person:\n",
    "    __name = \"anonymous\"\n",
    "    def __hello(self):\n",
    "        print(\"Hello person!\")\n",
    "    def welcome(self):\n",
    "        self.__hello()\n",
    "p1 = Person()\n",
    "print(p1.welcome())\n",
    "print(p1.__hello())"
   ]
  },
  {
   "cell_type": "code",
   "execution_count": 49,
   "id": "86f062ef-6385-42d8-909c-832fa45f8d71",
   "metadata": {},
   "outputs": [
    {
     "name": "stdout",
     "output_type": "stream",
     "text": [
      "car started\n",
      "None\n",
      "black\n",
      "car started\n"
     ]
    }
   ],
   "source": [
    "class Car:\n",
    "    color = \"black\"\n",
    "    @staticmethod\n",
    "    def start():\n",
    "        print(\"car started\")\n",
    "    @staticmethod\n",
    "    def stop():\n",
    "        print(\"car stopped\")\n",
    "class ToyotaCar(Car):\n",
    "    def __init__(self,name):\n",
    "        self.name = name\n",
    "car1 = ToyotaCar(\"fortuner\")\n",
    "car2 = ToyotaCar(\"prius\")\n",
    "print(car1.start())\n",
    "print(car1.color)\n",
    "class Fortuner(ToyotaCar):\n",
    "    def __init__(self,type):\n",
    "        self.type = type\n",
    "car1 = Fortuner(\"diesel\") \n",
    "car1.start()\n",
    "    "
   ]
  },
  {
   "cell_type": "code",
   "execution_count": 50,
   "id": "931cb89e-4097-49bb-a5d1-eea6e133b25b",
   "metadata": {},
   "outputs": [
    {
     "name": "stdout",
     "output_type": "stream",
     "text": [
      "welcome to class C\n",
      "welcome to class B\n",
      "welcome to class A\n"
     ]
    }
   ],
   "source": [
    "class A:\n",
    "    varA = \"welcome to class A\"\n",
    "class B:\n",
    "    varB = \"welcome to class B\"\n",
    "class C(A,B):\n",
    "    varC = \"welcome to class C\"\n",
    "c1 = C()\n",
    "print(c1.varC)\n",
    "print(c1.varB)\n",
    "print(c1.varA)\n",
    "    "
   ]
  },
  {
   "cell_type": "code",
   "execution_count": 52,
   "id": "c9a3a02b-01ad-4c55-87de-c8c3b931b1ae",
   "metadata": {},
   "outputs": [
    {
     "name": "stdout",
     "output_type": "stream",
     "text": [
      "car started\n",
      "car started\n",
      "None\n",
      "electric\n"
     ]
    }
   ],
   "source": [
    "class Car:\n",
    "    color = \"black\"\n",
    "    def __init__(self,type):\n",
    "        self.type = type\n",
    "    @staticmethod\n",
    "    def start():\n",
    "        print(\"car started\")\n",
    "    @staticmethod\n",
    "    def stop():\n",
    "        print(\"car stopped\")\n",
    "class ToyotaCar(Car):\n",
    "    def __init__(self,name,type):\n",
    "        super().__init__(type)\n",
    "        self.name = name\n",
    "        super().start()\n",
    "car1 = ToyotaCar(\"prius\",\"electric\")\n",
    "print(car1.start())\n",
    "print(car1.type)"
   ]
  },
  {
   "cell_type": "code",
   "execution_count": 53,
   "id": "f653e29d-a8e8-4b50-9934-5a93dcfe4e9d",
   "metadata": {},
   "outputs": [
    {
     "name": "stdout",
     "output_type": "stream",
     "text": [
      "rahul kumar\n",
      "rahul kumar\n"
     ]
    }
   ],
   "source": [
    "#class methods\n",
    "class Person:\n",
    "    name = \"anonymous\"\n",
    "   # def changeName(self,name):\n",
    "        #self.name = name\n",
    "      #  self.__class__.name = \"Rahul\"\n",
    "    @classmethod\n",
    "    def changeName(cls,name):\n",
    "        cls.name = name\n",
    "p1 = Person()\n",
    "p1.changeName(\"rahul kumar\")\n",
    "print(p1.name)\n",
    "print(Person.name)"
   ]
  },
  {
   "cell_type": "code",
   "execution_count": 60,
   "id": "4bbbfcac-7490-4517-9d0b-21b890a17767",
   "metadata": {},
   "outputs": [
    {
     "name": "stdout",
     "output_type": "stream",
     "text": [
      "98.0%\n",
      "94.0%\n"
     ]
    }
   ],
   "source": [
    "class Student:\n",
    "    def __init__(self,phy,chem,math):\n",
    "        self.phy = phy\n",
    "        self.chem = chem\n",
    "        self.math = math\n",
    "        #self.percentage = str((self.phy + self.chem + self.math) /3) + \"%\"\n",
    "    #def calcPercentage(self):\n",
    "        #self.percentage = str((self.phy + self.chem + self.math) /3) + \"%\"\n",
    "    @property\n",
    "    def percentage(self):\n",
    "        return  str((self.phy + self.chem + self.math) /3) + \"%\"\n",
    "    \n",
    "std1 = Student(98,97,99)\n",
    "print(std1.percentage)\n",
    "std1.phy = 86\n",
    "#print(std1.phy)\n",
    "#std1.calcPercentage()\n",
    "print(std1.percentage)"
   ]
  },
  {
   "cell_type": "code",
   "execution_count": 66,
   "id": "21c79f94-9641-4463-94d3-af8311111029",
   "metadata": {},
   "outputs": [
    {
     "name": "stdout",
     "output_type": "stream",
     "text": [
      "1 i+ 3 j\n",
      "4 i+ 6 j\n",
      "5 i+ 9 j\n"
     ]
    }
   ],
   "source": [
    "class Complex:\n",
    "    def __init__(self,real,img):\n",
    "        self.real = real\n",
    "        self.img = img\n",
    "    def showNumber(self):\n",
    "        print(self.real,\"i+\",self.img,\"j\")\n",
    "    def __add__(self,num2):\n",
    "        newReal = self.real + num2.real\n",
    "        newImg = self.img + num2.img\n",
    "        return Complex(newReal, newImg)\n",
    "        \n",
    "num1 = Complex(1,3)\n",
    "num1.showNumber()\n",
    "num2 = Complex(4,6)\n",
    "num2.showNumber()\n",
    "#num3 = num1.add(num2)\n",
    "num3 = num1+num2\n",
    "num3.showNumber()"
   ]
  },
  {
   "cell_type": "code",
   "execution_count": null,
   "id": "d454b2eb-ba55-4f17-95d1-9faa23292909",
   "metadata": {},
   "outputs": [],
   "source": []
  }
 ],
 "metadata": {
  "kernelspec": {
   "display_name": "Python 3 (ipykernel)",
   "language": "python",
   "name": "python3"
  },
  "language_info": {
   "codemirror_mode": {
    "name": "ipython",
    "version": 3
   },
   "file_extension": ".py",
   "mimetype": "text/x-python",
   "name": "python",
   "nbconvert_exporter": "python",
   "pygments_lexer": "ipython3",
   "version": "3.12.3"
  }
 },
 "nbformat": 4,
 "nbformat_minor": 5
}
